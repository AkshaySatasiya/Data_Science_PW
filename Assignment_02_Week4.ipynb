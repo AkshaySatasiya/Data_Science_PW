{
 "cells": [
  {
   "cell_type": "markdown",
   "id": "1ed1c178",
   "metadata": {},
   "source": [
    "# Q1. What is Abstraction in OOps? Explain with an example."
   ]
  },
  {
   "cell_type": "markdown",
   "id": "8d3ce541",
   "metadata": {},
   "source": [
    "Abstraction is used to hide the internal functionality of the function from the user."
   ]
  },
  {
   "cell_type": "markdown",
   "id": "3a8ad8ab",
   "metadata": {},
   "source": [
    "The user only interact with the basic implementation of the function, but inner working is hidden. User is familiar with that  __\"What function does\"__ but they don't know __\"how it does\"__"
   ]
  },
  {
   "cell_type": "code",
   "execution_count": 31,
   "id": "73c491cc",
   "metadata": {},
   "outputs": [],
   "source": [
    "from abc import ABC,abstractmethod"
   ]
  },
  {
   "cell_type": "code",
   "execution_count": 32,
   "id": "08ca8ed4",
   "metadata": {},
   "outputs": [],
   "source": [
    "class car(ABC):\n",
    "    \n",
    "    @abstractmethod\n",
    "    def mileage(self):\n",
    "        pass"
   ]
  },
  {
   "cell_type": "code",
   "execution_count": 33,
   "id": "38a32cc1",
   "metadata": {},
   "outputs": [],
   "source": [
    "class tesla(car):\n",
    "    \n",
    "    def mileage(self):\n",
    "        print('mileage is 30kmph')"
   ]
  },
  {
   "cell_type": "code",
   "execution_count": 34,
   "id": "98002a8e",
   "metadata": {},
   "outputs": [],
   "source": [
    "c = tesla()"
   ]
  },
  {
   "cell_type": "code",
   "execution_count": 35,
   "id": "14a3ecae",
   "metadata": {},
   "outputs": [
    {
     "name": "stdout",
     "output_type": "stream",
     "text": [
      "mileage is 30kmph\n"
     ]
    }
   ],
   "source": [
    "c.mileage()"
   ]
  },
  {
   "cell_type": "markdown",
   "id": "dca0e06a",
   "metadata": {},
   "source": [
    "# Q2. Differentiate between Abstraction and Encapsulation. Explain with an example.\n"
   ]
  },
  {
   "cell_type": "markdown",
   "id": "f00b7598",
   "metadata": {},
   "source": [
    "__Encapsulation__\n",
    "\n",
    "it is one of the fundamental oncepts in object-oriented programming . \n",
    "It describes the idea of wrapping data and the methods that work on data within one unit.\n",
    "\n",
    "This puts restrictions on accessing variables and methods directly and can prevent the accidental modification of data."
   ]
  },
  {
   "cell_type": "markdown",
   "id": "3ca69443",
   "metadata": {},
   "source": [
    "__Abstraction__\n",
    "\n",
    "Abstraction is used to hide the internal functionality of the function from the user.\n",
    "\n",
    "The user only interact with the basic implementation of the function, but inner working is hidden. User is familiar with that  __\"What function does\"__ but they don't know __\"how it does\"__"
   ]
  },
  {
   "cell_type": "markdown",
   "id": "5d29147d",
   "metadata": {},
   "source": [
    "# Q3. What is abc module in python? Why is it used?\n"
   ]
  },
  {
   "cell_type": "markdown",
   "id": "6561c3bd",
   "metadata": {},
   "source": [
    "this module provides the infrastructure for defining __Abstract Base Classes__(ABCs)"
   ]
  },
  {
   "cell_type": "markdown",
   "id": "9ac302eb",
   "metadata": {},
   "source": [
    "the ABC class from abc module can be used to create an abstract class."
   ]
  },
  {
   "cell_type": "markdown",
   "id": "07d8b603",
   "metadata": {},
   "source": [
    "# Q4. How can we achieve data abstraction?\n"
   ]
  },
  {
   "cell_type": "markdown",
   "id": "ab605ba4",
   "metadata": {},
   "source": [
    "Data abstraction in python can be achieved through creating abstract classes and inheriting them later."
   ]
  },
  {
   "cell_type": "code",
   "execution_count": 38,
   "id": "24379ca2",
   "metadata": {},
   "outputs": [],
   "source": [
    "from abc import ABC,abstractmethod"
   ]
  },
  {
   "cell_type": "code",
   "execution_count": 42,
   "id": "b0966a45",
   "metadata": {},
   "outputs": [],
   "source": [
    "class animal(ABC):\n",
    "    \n",
    "    def sleep(self):\n",
    "        print('I am sleeping.')\n",
    "        \n",
    "    @abstractmethod\n",
    "    def sound(self):\n",
    "        print('this function is defines the sound of animal.')\n",
    "        "
   ]
  },
  {
   "cell_type": "code",
   "execution_count": 43,
   "id": "a13443fd",
   "metadata": {},
   "outputs": [],
   "source": [
    "class dog(animal):\n",
    "    def sound(self):\n",
    "        print('I can bark')"
   ]
  },
  {
   "cell_type": "code",
   "execution_count": 44,
   "id": "5b96831a",
   "metadata": {},
   "outputs": [],
   "source": [
    "class lion(animal):\n",
    "    def sound(self):\n",
    "        print('I can roar')"
   ]
  },
  {
   "cell_type": "markdown",
   "id": "e57b4ee5",
   "metadata": {},
   "source": [
    "# Q5. Can we create an instance of an abstract class? Explain your answer.\n"
   ]
  },
  {
   "cell_type": "markdown",
   "id": "880b4095",
   "metadata": {},
   "source": [
    "No, we cannot create an instance of an abstract class because it does not have a complete implementation."
   ]
  },
  {
   "cell_type": "code",
   "execution_count": 53,
   "id": "1de96322",
   "metadata": {},
   "outputs": [],
   "source": [
    "from abc import ABC,abstractmethod"
   ]
  },
  {
   "cell_type": "code",
   "execution_count": 54,
   "id": "5d5e8445",
   "metadata": {},
   "outputs": [],
   "source": [
    "class car(ABC):\n",
    "    \n",
    "    def wheel(self):\n",
    "        print('have 4 wheels')\n",
    "        \n",
    "    @abstractmethod\n",
    "    def speed(self):\n",
    "        pass"
   ]
  },
  {
   "cell_type": "code",
   "execution_count": 55,
   "id": "f6623080",
   "metadata": {},
   "outputs": [
    {
     "ename": "TypeError",
     "evalue": "Can't instantiate abstract class car with abstract method speed",
     "output_type": "error",
     "traceback": [
      "\u001b[1;31m---------------------------------------------------------------------------\u001b[0m",
      "\u001b[1;31mTypeError\u001b[0m                                 Traceback (most recent call last)",
      "Cell \u001b[1;32mIn[55], line 1\u001b[0m\n\u001b[1;32m----> 1\u001b[0m honda \u001b[38;5;241m=\u001b[39m \u001b[43mcar\u001b[49m\u001b[43m(\u001b[49m\u001b[43m)\u001b[49m\n",
      "\u001b[1;31mTypeError\u001b[0m: Can't instantiate abstract class car with abstract method speed"
     ]
    }
   ],
   "source": [
    "honda = car()"
   ]
  },
  {
   "cell_type": "code",
   "execution_count": null,
   "id": "a2a01ee9",
   "metadata": {},
   "outputs": [],
   "source": []
  },
  {
   "cell_type": "code",
   "execution_count": null,
   "id": "e290835b",
   "metadata": {},
   "outputs": [],
   "source": []
  }
 ],
 "metadata": {
  "kernelspec": {
   "display_name": "Python 3 (ipykernel)",
   "language": "python",
   "name": "python3"
  },
  "language_info": {
   "codemirror_mode": {
    "name": "ipython",
    "version": 3
   },
   "file_extension": ".py",
   "mimetype": "text/x-python",
   "name": "python",
   "nbconvert_exporter": "python",
   "pygments_lexer": "ipython3",
   "version": "3.10.9"
  }
 },
 "nbformat": 4,
 "nbformat_minor": 5
}
