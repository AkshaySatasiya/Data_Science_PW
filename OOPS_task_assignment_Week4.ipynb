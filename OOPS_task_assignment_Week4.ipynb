{
 "cells": [
  {
   "cell_type": "markdown",
   "id": "8f056e14",
   "metadata": {},
   "source": [
    "# Q1, Create a vehicle class with an init method having instance variables as name_of_vehicle, max_speed and average_of_vehicle. "
   ]
  },
  {
   "cell_type": "code",
   "execution_count": 10,
   "id": "d22d5e21",
   "metadata": {},
   "outputs": [],
   "source": [
    "class vehicle:\n",
    "    \n",
    "    def __init__(self, name_of_vehicle, max_speed, average_of_vehicle):\n",
    "        self.name_of_vehicle = name_of_vehicle\n",
    "        self.max_speed = max_speed\n",
    "        self.average_of_vehicle = average_of_vehicle"
   ]
  },
  {
   "cell_type": "markdown",
   "id": "1a821a5d",
   "metadata": {},
   "source": [
    "# Q2.  Create a child class car from the vehicle class created in Que 1, which will inherit the vehicle class. Create a method named seating_capacity which takes capacity as an argument and returns the name of the vehicle and its seating capacity."
   ]
  },
  {
   "cell_type": "code",
   "execution_count": 44,
   "id": "64eb070b",
   "metadata": {},
   "outputs": [],
   "source": [
    "class car(vehicle):\n",
    "    \n",
    "    def seating_capacity(self, capacity):\n",
    "        return __class__,capacity"
   ]
  },
  {
   "cell_type": "code",
   "execution_count": 45,
   "id": "1a53dea3",
   "metadata": {},
   "outputs": [],
   "source": [
    "c = car('car', 25, 13)"
   ]
  },
  {
   "cell_type": "code",
   "execution_count": 48,
   "id": "0e09b55f",
   "metadata": {},
   "outputs": [
    {
     "data": {
      "text/plain": [
       "(__main__.car, 4)"
      ]
     },
     "execution_count": 48,
     "metadata": {},
     "output_type": "execute_result"
    }
   ],
   "source": [
    "c.seating_capacity(4)"
   ]
  },
  {
   "cell_type": "markdown",
   "id": "b99a3d3d",
   "metadata": {},
   "source": [
    "# Q3. What is multiple inheritance? Write a python code to demonstrate multiple inheritance.\n"
   ]
  },
  {
   "cell_type": "markdown",
   "id": "811820d1",
   "metadata": {},
   "source": [
    "When a class inherits the property of two defferent parent class than that is known as multiple inheritance."
   ]
  },
  {
   "cell_type": "code",
   "execution_count": 53,
   "id": "92d8ecd4",
   "metadata": {},
   "outputs": [],
   "source": [
    "class test1:\n",
    "    \n",
    "    def test1_class(self):\n",
    "        return 'Class test1'"
   ]
  },
  {
   "cell_type": "code",
   "execution_count": 54,
   "id": "5c24d96a",
   "metadata": {},
   "outputs": [],
   "source": [
    "class test2:\n",
    "    \n",
    "    def test2_class(self):\n",
    "        return 'class test2'"
   ]
  },
  {
   "cell_type": "code",
   "execution_count": 55,
   "id": "5561a25a",
   "metadata": {},
   "outputs": [],
   "source": [
    "class test3(test1, test2):\n",
    "    pass"
   ]
  },
  {
   "cell_type": "code",
   "execution_count": 56,
   "id": "471aaa62",
   "metadata": {},
   "outputs": [],
   "source": [
    "c = test3()"
   ]
  },
  {
   "cell_type": "code",
   "execution_count": 57,
   "id": "f36719e2",
   "metadata": {},
   "outputs": [
    {
     "data": {
      "text/plain": [
       "'Class test1'"
      ]
     },
     "execution_count": 57,
     "metadata": {},
     "output_type": "execute_result"
    }
   ],
   "source": [
    "c.test1_class()"
   ]
  },
  {
   "cell_type": "code",
   "execution_count": 58,
   "id": "2a756987",
   "metadata": {},
   "outputs": [
    {
     "data": {
      "text/plain": [
       "'class test2'"
      ]
     },
     "execution_count": 58,
     "metadata": {},
     "output_type": "execute_result"
    }
   ],
   "source": [
    "c.test2_class()"
   ]
  },
  {
   "cell_type": "markdown",
   "id": "89ebe120",
   "metadata": {},
   "source": [
    "# Q4. What are getter and setter in python? Create a class and create a getter and a setter method in this class."
   ]
  },
  {
   "cell_type": "markdown",
   "id": "c6fb01ac",
   "metadata": {},
   "source": [
    "When we don't want to show our variables to the user than we have to hide that variables. In this case if we want to access that variables than we have to set some methods to access that variables that methods are known as getters and setters."
   ]
  },
  {
   "cell_type": "code",
   "execution_count": 65,
   "id": "9327eb77",
   "metadata": {},
   "outputs": [],
   "source": [
    "class bank_account:\n",
    "    \n",
    "    def __init__(self, account_number, balance):\n",
    "        self.__account_number = account_number\n",
    "        self.__balance = balance\n",
    "        \n",
    "    def set_account_number(self, number):\n",
    "        self.__account_number = number\n",
    "        return True\n",
    "    \n",
    "    def get_account_number(self):\n",
    "        return self.__account_number\n",
    "    \n",
    "    def get_balance(self):\n",
    "        return self.__balance"
   ]
  },
  {
   "cell_type": "code",
   "execution_count": 66,
   "id": "e9c4f0a2",
   "metadata": {},
   "outputs": [],
   "source": [
    "account = bank_account(101, 2000)"
   ]
  },
  {
   "cell_type": "code",
   "execution_count": 68,
   "id": "1ff52ffe",
   "metadata": {},
   "outputs": [
    {
     "data": {
      "text/plain": [
       "True"
      ]
     },
     "execution_count": 68,
     "metadata": {},
     "output_type": "execute_result"
    }
   ],
   "source": [
    "account.set_account_number(201)"
   ]
  },
  {
   "cell_type": "code",
   "execution_count": 69,
   "id": "698c97e7",
   "metadata": {},
   "outputs": [
    {
     "data": {
      "text/plain": [
       "201"
      ]
     },
     "execution_count": 69,
     "metadata": {},
     "output_type": "execute_result"
    }
   ],
   "source": [
    "account.get_account_number()"
   ]
  },
  {
   "cell_type": "code",
   "execution_count": 70,
   "id": "a335faa2",
   "metadata": {},
   "outputs": [
    {
     "data": {
      "text/plain": [
       "2000"
      ]
     },
     "execution_count": 70,
     "metadata": {},
     "output_type": "execute_result"
    }
   ],
   "source": [
    "account.get_balance()"
   ]
  },
  {
   "cell_type": "markdown",
   "id": "a642c4a4",
   "metadata": {},
   "source": [
    "# Q5.What is method overriding in python? Write a python code to demonstrate method overriding.\n"
   ]
  },
  {
   "cell_type": "markdown",
   "id": "b095e58e",
   "metadata": {},
   "source": [
    "Method overriding is an ability of any object-oriented programming language that allows a subclass or child class to provide a specific implementation of a method that is already provided by one of its super-classes or parent classes. \n",
    "\n",
    "when a method in subclass hasthe same name, same parameters or signature and same return type as a method in its super-class, than the method in the sub-class is said to override the method in the super-class"
   ]
  },
  {
   "cell_type": "code",
   "execution_count": 72,
   "id": "2ed58e13",
   "metadata": {},
   "outputs": [],
   "source": [
    "class animal:\n",
    "    \n",
    "    def move(self):\n",
    "        return 'animmal is moving'"
   ]
  },
  {
   "cell_type": "code",
   "execution_count": 73,
   "id": "578d3d39",
   "metadata": {},
   "outputs": [],
   "source": [
    "class dog(animal):\n",
    "    \n",
    "    def move(self):\n",
    "        return 'dog is moving'"
   ]
  },
  {
   "cell_type": "code",
   "execution_count": 74,
   "id": "008481e9",
   "metadata": {},
   "outputs": [],
   "source": [
    "labra = dog()"
   ]
  },
  {
   "cell_type": "code",
   "execution_count": 78,
   "id": "ea1c7be4",
   "metadata": {},
   "outputs": [
    {
     "data": {
      "text/plain": [
       "'dog is moving'"
      ]
     },
     "execution_count": 78,
     "metadata": {},
     "output_type": "execute_result"
    }
   ],
   "source": [
    "labra.move()"
   ]
  },
  {
   "cell_type": "markdown",
   "id": "70af8bcd",
   "metadata": {},
   "source": [
    "Here the move metho of animal cass has been  override by the move method of dog class"
   ]
  },
  {
   "cell_type": "code",
   "execution_count": null,
   "id": "ea2998bd",
   "metadata": {},
   "outputs": [],
   "source": []
  }
 ],
 "metadata": {
  "kernelspec": {
   "display_name": "Python 3 (ipykernel)",
   "language": "python",
   "name": "python3"
  },
  "language_info": {
   "codemirror_mode": {
    "name": "ipython",
    "version": 3
   },
   "file_extension": ".py",
   "mimetype": "text/x-python",
   "name": "python",
   "nbconvert_exporter": "python",
   "pygments_lexer": "ipython3",
   "version": "3.10.9"
  }
 },
 "nbformat": 4,
 "nbformat_minor": 5
}
