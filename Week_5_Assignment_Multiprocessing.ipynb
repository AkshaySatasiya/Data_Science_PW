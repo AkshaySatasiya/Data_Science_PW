{
 "cells": [
  {
   "cell_type": "markdown",
   "id": "6988245e-6756-46e3-9c21-79273d1b5250",
   "metadata": {},
   "source": [
    "# Q1. What is multiprocessing in python? Why is it useful? "
   ]
  },
  {
   "cell_type": "markdown",
   "id": "472617d5-4707-4191-900b-b2350138954c",
   "metadata": {},
   "source": [
    "Multiprocessing in python is a built-in package that allows the system to __run multiple processes simultaneously.__"
   ]
  },
  {
   "cell_type": "markdown",
   "id": "5db47308-61a9-4941-a2d8-2430efc625b7",
   "metadata": {},
   "source": [
    "Multiprocessing is useful for __CPU-bound processes__, such as computationally heavy tasks since it will benefit from having multiple processors; similar to how multicore computers work faster than computers with a single core."
   ]
  },
  {
   "cell_type": "markdown",
   "id": "74aae9fe-9659-4745-9b56-23e6735def79",
   "metadata": {},
   "source": [
    "# Q2. What are the differences between multiprocessing and multithreading?"
   ]
  },
  {
   "cell_type": "markdown",
   "id": "352d9346-9841-41bb-84f2-b2aa214486f0",
   "metadata": {},
   "source": [
    "__Multiprocessing__ uses two or more CPUs to increase computing power whereas __multithreading__ uses a single process with multiple code segments to increase computing power"
   ]
  },
  {
   "cell_type": "markdown",
   "id": "ee7225df-6d21-49b6-ad97-a884d94ec204",
   "metadata": {},
   "source": [
    "__Multithreading__ focuses on generating computing threads from a single process, whereas __Multiprocessing__ increases computing power by adding CPUs."
   ]
  },
  {
   "cell_type": "markdown",
   "id": "addd41d5-bdd2-4e02-8bf6-94b2e5e24946",
   "metadata": {},
   "source": [
    "# Q3. Write a python code to create a process using the multiprocessing module."
   ]
  },
  {
   "cell_type": "code",
   "execution_count": 8,
   "id": "d8c8566c-4eeb-4abe-b483-522e147f5957",
   "metadata": {},
   "outputs": [
    {
     "name": "stdout",
     "output_type": "stream",
     "text": [
      "\n",
      "Square : 100\n",
      "\n",
      "Cube : 1000\n"
     ]
    }
   ],
   "source": [
    "import multiprocessing\n",
    "\n",
    "def print_cube(num):\n",
    "    print('\\nCube : {}'.format(num**3))\n",
    "    \n",
    "def print_square(num):\n",
    "    print('\\nSquare : {}'.format(num**2))\n",
    "    \n",
    "if __name__ == '__main__':\n",
    "    p1 = multiprocessing.Process(target=print_square, args=(10,))\n",
    "    p2 = multiprocessing.Process(target=print_cube, args=(10,))\n",
    "    p1.start()\n",
    "    p2.start()\n",
    "    p1.join()\n",
    "    p2.join()"
   ]
  },
  {
   "cell_type": "markdown",
   "id": "e17d6797-96df-4e67-9ed4-309cdeca325f",
   "metadata": {},
   "source": [
    "# Q4. What is a multiprocessing pool in python? Why is it used?"
   ]
  },
  {
   "cell_type": "markdown",
   "id": "ee69c823-1a55-4436-9a03-f01dc29b653b",
   "metadata": {},
   "source": [
    "Python multiprocessing Pool can be used for __parallel execution of a function across multiple input values, distributing the input data across processes.__"
   ]
  },
  {
   "cell_type": "markdown",
   "id": "fb36475f-c41c-4998-91a8-4d5985c5c67e",
   "metadata": {},
   "source": [
    "The pool class in multiprocessing can handle an enormous number of processes. it allows you to run multiple jobs per process. The memory is allocated only to the executing processes, unlike the process class, which allocates memory to all the processes."
   ]
  },
  {
   "cell_type": "markdown",
   "id": "9af35fe2-5011-45e0-b9c2-765b785208bc",
   "metadata": {},
   "source": [
    "# Q5. How can we create a pool of worker processes in python using the multiprocessing module?\n"
   ]
  },
  {
   "cell_type": "code",
   "execution_count": 16,
   "id": "5a3e01f4-b4d4-4feb-aeb1-7b2c060a614a",
   "metadata": {},
   "outputs": [
    {
     "name": "stdout",
     "output_type": "stream",
     "text": [
      "1\n",
      "4\n",
      "9\n",
      "16\n",
      "25\n",
      "36\n",
      "49\n",
      "64\n",
      "81\n",
      "100\n"
     ]
    }
   ],
   "source": [
    "import multiprocessing\n",
    "\n",
    "def process_data(data):\n",
    "    result = data**2 \n",
    "    return result\n",
    "\n",
    "if __name__ == '__main__':\n",
    "    pool = multiprocessing.Pool(processes=4)\n",
    "    data = [1, 2, 3, 4, 5, 6, 7, 8, 9, 10]\n",
    "    results = pool.map(process_data, data)\n",
    "    pool.close()\n",
    "\n",
    "    for result in results:\n",
    "        print(result)\n"
   ]
  },
  {
   "cell_type": "markdown",
   "id": "60ad47aa-943e-48e0-b63d-a39fbadb5cf0",
   "metadata": {},
   "source": [
    "#  Q6. Write a python program to create 4 processes, each process should print a different number using the multiprocessing module in python."
   ]
  },
  {
   "cell_type": "code",
   "execution_count": 19,
   "id": "013f53d2-78b9-4619-8aa7-9e610f07afb1",
   "metadata": {},
   "outputs": [
    {
     "name": "stdout",
     "output_type": "stream",
     "text": [
      "0\n",
      "1\n",
      "2\n",
      "3\n",
      "<Process name='Process-53' pid=1081 parent=85 stopped exitcode=0>\n",
      "<Process name='Process-54' pid=1086 parent=85 stopped exitcode=0>\n",
      "<Process name='Process-55' pid=1091 parent=85 stopped exitcode=0>\n",
      "<Process name='Process-56' pid=1096 parent=85 stopped exitcode=0>\n"
     ]
    }
   ],
   "source": [
    "import multiprocessing\n",
    "\n",
    "def print_number(num):\n",
    "    print(num)\n",
    "    \n",
    "if __name__ == '__main__':\n",
    "    processes = []\n",
    "    \n",
    "    for i in range(4):\n",
    "        process = multiprocessing.Process(target=print_number, args=(i,))\n",
    "        processes.append(process)\n",
    "        process.start()\n",
    "        process.join()\n",
    "    for process in processes:\n",
    "        print(process)"
   ]
  },
  {
   "cell_type": "code",
   "execution_count": null,
   "id": "7186fe3f-af55-450b-89e0-35f7f623767a",
   "metadata": {},
   "outputs": [],
   "source": []
  }
 ],
 "metadata": {
  "kernelspec": {
   "display_name": "Python 3 (ipykernel)",
   "language": "python",
   "name": "python3"
  },
  "language_info": {
   "codemirror_mode": {
    "name": "ipython",
    "version": 3
   },
   "file_extension": ".py",
   "mimetype": "text/x-python",
   "name": "python",
   "nbconvert_exporter": "python",
   "pygments_lexer": "ipython3",
   "version": "3.10.8"
  }
 },
 "nbformat": 4,
 "nbformat_minor": 5
}
