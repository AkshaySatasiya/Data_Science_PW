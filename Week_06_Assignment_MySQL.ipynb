{
 "cells": [
  {
   "cell_type": "markdown",
   "id": "37933fd0",
   "metadata": {},
   "source": [
    "# Q1. What is a database? Differentiate between SQL and NoSQL databases.\n"
   ]
  },
  {
   "cell_type": "markdown",
   "id": "725f7b1e",
   "metadata": {},
   "source": [
    "A __database__ is an __organized collection of structured information__, or datta, typically stored in electronically in computer system."
   ]
  },
  {
   "cell_type": "markdown",
   "id": "61ff0482",
   "metadata": {},
   "source": [
    "SQL stands for Structured query language\n",
    "\n",
    "NoSQL stands for Not only Structured query language"
   ]
  },
  {
   "cell_type": "markdown",
   "id": "99271cc9",
   "metadata": {},
   "source": [
    "__SQL__ databases are table-based while __NoSQL__ databases are documents, key-value, graph, or wide-column stores."
   ]
  },
  {
   "cell_type": "markdown",
   "id": "38064d7d",
   "metadata": {},
   "source": [
    "# Q2. What is DDL? Explain why CREATE, DROP, ALTER, and TRUNCATE are used with an example.\n"
   ]
  },
  {
   "cell_type": "markdown",
   "id": "eba1879a",
   "metadata": {},
   "source": [
    "DDL stand for Data Defination Language. \n",
    "\n",
    "It is used for defining data structure, especially database schemas "
   ]
  },
  {
   "cell_type": "markdown",
   "id": "685485e7",
   "metadata": {},
   "source": [
    "__Create__\n",
    "\n",
    "This command is used to create a new table in SQL.\n",
    "\n",
    "    CREATE TABLE TABLE_NAME( COLUMN_1 DATATPE, COLUMN_2 DATATYPE );\n",
    "    \n",
    "__Drop__\n",
    "\n",
    "This command is used to remove an existing table along with its structure from database.\n",
    "\n",
    "    DROP TABLE TABLE_NAME;\n",
    "    \n",
    "__Alter__\n",
    "\n",
    "This  command is used to ass, delete or change column in existing table.\n",
    "\n",
    "    ALTER TABLE TABLE_NAME\n",
    "    ADD COLUMN_NAME DATATYPE;\n",
    "    \n",
    "__Truncate__\n",
    "\n",
    "This command is used to remove all rows from the table, but the structure of the table still exists.\n",
    "\n",
    "    TRUNCATE TABLE TABLE_NAME;"
   ]
  },
  {
   "cell_type": "markdown",
   "id": "8ce5d124",
   "metadata": {},
   "source": [
    "# Q3. What is DML? Explain INSERT, UPDATE, and DELETE with an example.\n"
   ]
  },
  {
   "cell_type": "markdown",
   "id": "f634195c",
   "metadata": {},
   "source": [
    "DML stand for __Data Manipulation Language.__ represents a collection of programming language explicitly __used to make changes to the databases__ such as CRUD operation."
   ]
  },
  {
   "cell_type": "markdown",
   "id": "7f39dc83",
   "metadata": {},
   "source": [
    "__INSERT__\n",
    "\n",
    "this command is used to insert data into a table.\n",
    "\n",
    "    Insert into table_name (column list) values (column values);\n",
    "    \n",
    "__UPDATE__\n",
    "\n",
    "this command is used to update existing data within a table.\n",
    "\n",
    "    Update table_name SET column_number = value_number WHERE cndition;\n",
    "    \n",
    "__DELETE__\n",
    "\n",
    "this command is used to delete records from a database table\n",
    "\n",
    "    Delete from table_name WHERE condition"
   ]
  },
  {
   "cell_type": "markdown",
   "id": "a4f86afd",
   "metadata": {},
   "source": [
    "# Q4. What is DQL? Explain SELECT with an example.\n"
   ]
  },
  {
   "cell_type": "markdown",
   "id": "3d0e2c68",
   "metadata": {},
   "source": [
    "DQL stands for Data Query Language\n",
    "\n",
    "it is used to retrieve data.\n",
    "\n",
    "__SELECT__\n",
    "\n",
    "this command is used to retrieve data from a database.\n",
    "\n",
    "    SELECT * from table_name;"
   ]
  },
  {
   "cell_type": "markdown",
   "id": "5bc1cde0",
   "metadata": {},
   "source": [
    "# Q5. Explain Primary Key and Foreign Key.\n"
   ]
  },
  {
   "cell_type": "markdown",
   "id": "b7085b38",
   "metadata": {},
   "source": [
    "__A Primary key__ is generally focuses on the __uniqueness of the table.__ it assures the value in the specific column is unique.\n",
    "\n",
    "__A Foreign key__ is generally used to __build a relationship between the two tables.__"
   ]
  },
  {
   "cell_type": "markdown",
   "id": "f9c720ed",
   "metadata": {},
   "source": [
    "# Q6. Write a python code to connect MySQL to python. Explain the cursor() and execute() method.\n"
   ]
  },
  {
   "cell_type": "raw",
   "id": "11fd3da1",
   "metadata": {},
   "source": [
    "import mysql.connector\n",
    "\n",
    "#establishing the connection\n",
    "conn = mysql.connector.connect(\n",
    "    host = 'localhost',\n",
    "    user = 'root',\n",
    "    password = '@Akshay2811'\n",
    ")\n",
    "\n",
    "#creating the cursor object\n",
    "mycursor = conn.cursor()\n",
    "mycursor.execute('SHOW DATABASES')"
   ]
  },
  {
   "cell_type": "markdown",
   "id": "1abf5090",
   "metadata": {},
   "source": [
    "__cursor()__\n",
    "\n",
    "this method is used to execute statement to communicate with the MySQL database.\n",
    "\n",
    "__execute()__\n",
    "\n",
    "this method accepts a MySQL query as a parameter and execute the given query."
   ]
  },
  {
   "cell_type": "markdown",
   "id": "eb3ba634",
   "metadata": {},
   "source": [
    "# Q7. Give the order of execution of SQL clauses in an SQL query.\n"
   ]
  },
  {
   "cell_type": "markdown",
   "id": "a8ae1407",
   "metadata": {},
   "source": [
    "The order in which the clauses in SQL query execute\n",
    "\n",
    "__FROM/JOIN__\n",
    "\n",
    "the FROM and JOIN clauses are execute fir st to determine the data of interest.\n",
    "\n",
    "__WHERE__\n",
    "\n",
    "the WHERE clause is executed to filter out records that do not meet the constraints.\n",
    "\n",
    "__GROUP BY__\n",
    "\n",
    "the GROUP BY clause is executed to group the data based on the values in one or more columns.\n",
    "\n",
    "__HAVING__\n",
    "\n",
    "the HAVING clause is executed to remove the created grouped records that don't meet the constraints.\n",
    "\n",
    "__SELECT__\n",
    "\n",
    "the SELECT clause is executed to derive all desired columns and expressions.\n",
    "\n",
    "__ORDER BY__\n",
    "\n",
    "the ORDER BY clause is executed to sort the derived values in ascending or descending order.\n",
    "\n",
    "__LIMIT/OFFSET__\n",
    "\n",
    "the LIMIT abd OFFSET clause are executed to keep or skip a specific number of rows"
   ]
  },
  {
   "cell_type": "code",
   "execution_count": null,
   "id": "0276b76c",
   "metadata": {},
   "outputs": [],
   "source": []
  }
 ],
 "metadata": {
  "kernelspec": {
   "display_name": "Python 3 (ipykernel)",
   "language": "python",
   "name": "python3"
  },
  "language_info": {
   "codemirror_mode": {
    "name": "ipython",
    "version": 3
   },
   "file_extension": ".py",
   "mimetype": "text/x-python",
   "name": "python",
   "nbconvert_exporter": "python",
   "pygments_lexer": "ipython3",
   "version": "3.10.9"
  }
 },
 "nbformat": 4,
 "nbformat_minor": 5
}
