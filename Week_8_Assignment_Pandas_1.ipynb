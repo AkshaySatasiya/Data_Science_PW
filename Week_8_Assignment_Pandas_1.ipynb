{
 "cells": [
  {
   "cell_type": "markdown",
   "id": "6ee359ec",
   "metadata": {},
   "source": [
    "# Q1. Create a Pandas Series that contains the following data: 4, 8, 15, 16, 23, and 42. Then, print the series.\n"
   ]
  },
  {
   "cell_type": "code",
   "execution_count": 1,
   "id": "62afedfd",
   "metadata": {},
   "outputs": [],
   "source": [
    "import pandas as pd"
   ]
  },
  {
   "cell_type": "code",
   "execution_count": 2,
   "id": "75aff2ee",
   "metadata": {},
   "outputs": [],
   "source": [
    "data = [4,8,15,16,23,43]\n",
    "s = pd.Series(data)"
   ]
  },
  {
   "cell_type": "code",
   "execution_count": 3,
   "id": "b28d7513",
   "metadata": {},
   "outputs": [
    {
     "data": {
      "text/plain": [
       "0     4\n",
       "1     8\n",
       "2    15\n",
       "3    16\n",
       "4    23\n",
       "5    43\n",
       "dtype: int64"
      ]
     },
     "execution_count": 3,
     "metadata": {},
     "output_type": "execute_result"
    }
   ],
   "source": [
    "s"
   ]
  },
  {
   "cell_type": "markdown",
   "id": "29ebcbf8",
   "metadata": {},
   "source": [
    "# Q2. Create a variable of list type containing 10 elements in it, and apply pandas.Series function on the variable print it."
   ]
  },
  {
   "cell_type": "code",
   "execution_count": 4,
   "id": "7cfca9f3",
   "metadata": {},
   "outputs": [
    {
     "data": {
      "text/plain": [
       "0     1\n",
       "1     2\n",
       "2     3\n",
       "3     4\n",
       "4     5\n",
       "5     6\n",
       "6     7\n",
       "7     8\n",
       "8     9\n",
       "9    10\n",
       "dtype: int64"
      ]
     },
     "execution_count": 4,
     "metadata": {},
     "output_type": "execute_result"
    }
   ],
   "source": [
    "nums = [1,2,3,4,5,6,7,8,9,10]\n",
    "\n",
    "pd.Series(nums)"
   ]
  },
  {
   "cell_type": "markdown",
   "id": "ab61abc3",
   "metadata": {},
   "source": [
    "# Q3. Create a Pandas DataFrame that contains the following data:\n",
    "# Then, print the DataFrame"
   ]
  },
  {
   "cell_type": "code",
   "execution_count": 22,
   "id": "46b4e0ea",
   "metadata": {},
   "outputs": [],
   "source": [
    "data = [['alice',25,'female'],\n",
    "        ['Bob',30,'male'],\n",
    "        ['Claire',27,'female']]"
   ]
  },
  {
   "cell_type": "code",
   "execution_count": 23,
   "id": "dabc705b",
   "metadata": {},
   "outputs": [],
   "source": [
    "df = pd.DataFrame(data,columns=['name','age','gender'])"
   ]
  },
  {
   "cell_type": "code",
   "execution_count": 24,
   "id": "e6d1d20a",
   "metadata": {},
   "outputs": [
    {
     "data": {
      "text/html": [
       "<div>\n",
       "<style scoped>\n",
       "    .dataframe tbody tr th:only-of-type {\n",
       "        vertical-align: middle;\n",
       "    }\n",
       "\n",
       "    .dataframe tbody tr th {\n",
       "        vertical-align: top;\n",
       "    }\n",
       "\n",
       "    .dataframe thead th {\n",
       "        text-align: right;\n",
       "    }\n",
       "</style>\n",
       "<table border=\"1\" class=\"dataframe\">\n",
       "  <thead>\n",
       "    <tr style=\"text-align: right;\">\n",
       "      <th></th>\n",
       "      <th>name</th>\n",
       "      <th>age</th>\n",
       "      <th>gender</th>\n",
       "    </tr>\n",
       "  </thead>\n",
       "  <tbody>\n",
       "    <tr>\n",
       "      <th>0</th>\n",
       "      <td>alice</td>\n",
       "      <td>25</td>\n",
       "      <td>female</td>\n",
       "    </tr>\n",
       "    <tr>\n",
       "      <th>1</th>\n",
       "      <td>Bob</td>\n",
       "      <td>30</td>\n",
       "      <td>male</td>\n",
       "    </tr>\n",
       "    <tr>\n",
       "      <th>2</th>\n",
       "      <td>Claire</td>\n",
       "      <td>27</td>\n",
       "      <td>female</td>\n",
       "    </tr>\n",
       "  </tbody>\n",
       "</table>\n",
       "</div>"
      ],
      "text/plain": [
       "     name  age  gender\n",
       "0   alice   25  female\n",
       "1     Bob   30    male\n",
       "2  Claire   27  female"
      ]
     },
     "execution_count": 24,
     "metadata": {},
     "output_type": "execute_result"
    }
   ],
   "source": [
    "df"
   ]
  },
  {
   "cell_type": "markdown",
   "id": "50f2fd8b",
   "metadata": {},
   "source": [
    "# Q4. What is ‘DataFrame’ in pandas and how is it different from pandas.series? Explain with an example.\n"
   ]
  },
  {
   "cell_type": "markdown",
   "id": "b97ff190",
   "metadata": {},
   "source": [
    "DataFrame is a data structure that organizes data into a 2-dimensional table of rows and columns, much like a spreadsheet. \n",
    "\n",
    "The Pandas Series can be defined as a one-dimensional array that is capable of storing various data types. Series is a type of list in pandas."
   ]
  },
  {
   "cell_type": "markdown",
   "id": "d1ac42c0",
   "metadata": {},
   "source": [
    "# Q5. What are some common functions you can use to manipulate data in a Pandas DataFrame? Can you give an example of when you might use one of these functions?"
   ]
  },
  {
   "cell_type": "markdown",
   "id": "7db757eb",
   "metadata": {},
   "source": [
    "there are many functions like : "
   ]
  },
  {
   "cell_type": "code",
   "execution_count": 25,
   "id": "5a8c52d5",
   "metadata": {},
   "outputs": [
    {
     "data": {
      "text/html": [
       "<div>\n",
       "<style scoped>\n",
       "    .dataframe tbody tr th:only-of-type {\n",
       "        vertical-align: middle;\n",
       "    }\n",
       "\n",
       "    .dataframe tbody tr th {\n",
       "        vertical-align: top;\n",
       "    }\n",
       "\n",
       "    .dataframe thead th {\n",
       "        text-align: right;\n",
       "    }\n",
       "</style>\n",
       "<table border=\"1\" class=\"dataframe\">\n",
       "  <thead>\n",
       "    <tr style=\"text-align: right;\">\n",
       "      <th></th>\n",
       "      <th>name</th>\n",
       "      <th>age</th>\n",
       "      <th>gender</th>\n",
       "    </tr>\n",
       "  </thead>\n",
       "  <tbody>\n",
       "    <tr>\n",
       "      <th>0</th>\n",
       "      <td>alice</td>\n",
       "      <td>25</td>\n",
       "      <td>female</td>\n",
       "    </tr>\n",
       "    <tr>\n",
       "      <th>1</th>\n",
       "      <td>Bob</td>\n",
       "      <td>30</td>\n",
       "      <td>male</td>\n",
       "    </tr>\n",
       "  </tbody>\n",
       "</table>\n",
       "</div>"
      ],
      "text/plain": [
       "    name  age  gender\n",
       "0  alice   25  female\n",
       "1    Bob   30    male"
      ]
     },
     "execution_count": 25,
     "metadata": {},
     "output_type": "execute_result"
    }
   ],
   "source": [
    "df.head(2)"
   ]
  },
  {
   "cell_type": "code",
   "execution_count": 26,
   "id": "4ebed6e9",
   "metadata": {},
   "outputs": [
    {
     "data": {
      "text/html": [
       "<div>\n",
       "<style scoped>\n",
       "    .dataframe tbody tr th:only-of-type {\n",
       "        vertical-align: middle;\n",
       "    }\n",
       "\n",
       "    .dataframe tbody tr th {\n",
       "        vertical-align: top;\n",
       "    }\n",
       "\n",
       "    .dataframe thead th {\n",
       "        text-align: right;\n",
       "    }\n",
       "</style>\n",
       "<table border=\"1\" class=\"dataframe\">\n",
       "  <thead>\n",
       "    <tr style=\"text-align: right;\">\n",
       "      <th></th>\n",
       "      <th>name</th>\n",
       "      <th>age</th>\n",
       "      <th>gender</th>\n",
       "    </tr>\n",
       "  </thead>\n",
       "  <tbody>\n",
       "    <tr>\n",
       "      <th>1</th>\n",
       "      <td>Bob</td>\n",
       "      <td>30</td>\n",
       "      <td>male</td>\n",
       "    </tr>\n",
       "    <tr>\n",
       "      <th>2</th>\n",
       "      <td>Claire</td>\n",
       "      <td>27</td>\n",
       "      <td>female</td>\n",
       "    </tr>\n",
       "  </tbody>\n",
       "</table>\n",
       "</div>"
      ],
      "text/plain": [
       "     name  age  gender\n",
       "1     Bob   30    male\n",
       "2  Claire   27  female"
      ]
     },
     "execution_count": 26,
     "metadata": {},
     "output_type": "execute_result"
    }
   ],
   "source": [
    "df.tail(2)"
   ]
  },
  {
   "cell_type": "code",
   "execution_count": 27,
   "id": "a0b98421",
   "metadata": {},
   "outputs": [
    {
     "data": {
      "text/plain": [
       "['name', 'age', 'gender']"
      ]
     },
     "execution_count": 27,
     "metadata": {},
     "output_type": "execute_result"
    }
   ],
   "source": [
    "list(df.columns)"
   ]
  },
  {
   "cell_type": "code",
   "execution_count": 28,
   "id": "895ecb87",
   "metadata": {},
   "outputs": [
    {
     "data": {
      "text/plain": [
       "0     alice\n",
       "1       Bob\n",
       "2    Claire\n",
       "Name: name, dtype: object"
      ]
     },
     "execution_count": 28,
     "metadata": {},
     "output_type": "execute_result"
    }
   ],
   "source": [
    "df['name']"
   ]
  },
  {
   "cell_type": "code",
   "execution_count": 29,
   "id": "0967af27",
   "metadata": {},
   "outputs": [
    {
     "data": {
      "text/plain": [
       "0    25\n",
       "1    30\n",
       "2    27\n",
       "Name: age, dtype: int64"
      ]
     },
     "execution_count": 29,
     "metadata": {},
     "output_type": "execute_result"
    }
   ],
   "source": [
    "df['age']"
   ]
  },
  {
   "cell_type": "code",
   "execution_count": 31,
   "id": "d6b8e112",
   "metadata": {},
   "outputs": [
    {
     "data": {
      "text/plain": [
       "name      object\n",
       "age        int64\n",
       "gender    object\n",
       "dtype: object"
      ]
     },
     "execution_count": 31,
     "metadata": {},
     "output_type": "execute_result"
    }
   ],
   "source": [
    "df.dtypes"
   ]
  },
  {
   "cell_type": "markdown",
   "id": "ba31d214",
   "metadata": {},
   "source": [
    "# Q6. Which of the following is mutable in nature Series, DataFrame, Panel?\n"
   ]
  },
  {
   "cell_type": "markdown",
   "id": "f78d4318",
   "metadata": {},
   "source": [
    "    Series\n",
    "    DataFrame"
   ]
  },
  {
   "cell_type": "markdown",
   "id": "0e18fa6c",
   "metadata": {},
   "source": [
    "# Q7. Create a DataFrame using multiple Series. Explain with an example."
   ]
  },
  {
   "cell_type": "code",
   "execution_count": 34,
   "id": "f901b0f5",
   "metadata": {},
   "outputs": [],
   "source": [
    "s1 = pd.Series(['akshay','jay','hiren'])\n",
    "s2 = pd.Series([21,22,21])\n",
    "s3 = pd.Series(['Ahmedabad','Ahmedabad','Ahmedabad'])\n",
    "\n",
    "df = pd.DataFrame({'Name':s1, 'Age':s2, 'City':s3})"
   ]
  },
  {
   "cell_type": "code",
   "execution_count": 35,
   "id": "8228bda0",
   "metadata": {},
   "outputs": [
    {
     "data": {
      "text/html": [
       "<div>\n",
       "<style scoped>\n",
       "    .dataframe tbody tr th:only-of-type {\n",
       "        vertical-align: middle;\n",
       "    }\n",
       "\n",
       "    .dataframe tbody tr th {\n",
       "        vertical-align: top;\n",
       "    }\n",
       "\n",
       "    .dataframe thead th {\n",
       "        text-align: right;\n",
       "    }\n",
       "</style>\n",
       "<table border=\"1\" class=\"dataframe\">\n",
       "  <thead>\n",
       "    <tr style=\"text-align: right;\">\n",
       "      <th></th>\n",
       "      <th>Name</th>\n",
       "      <th>Age</th>\n",
       "      <th>City</th>\n",
       "    </tr>\n",
       "  </thead>\n",
       "  <tbody>\n",
       "    <tr>\n",
       "      <th>0</th>\n",
       "      <td>akshay</td>\n",
       "      <td>21</td>\n",
       "      <td>Ahmedabad</td>\n",
       "    </tr>\n",
       "    <tr>\n",
       "      <th>1</th>\n",
       "      <td>jay</td>\n",
       "      <td>22</td>\n",
       "      <td>Ahmedabad</td>\n",
       "    </tr>\n",
       "    <tr>\n",
       "      <th>2</th>\n",
       "      <td>hiren</td>\n",
       "      <td>21</td>\n",
       "      <td>Ahmedabad</td>\n",
       "    </tr>\n",
       "  </tbody>\n",
       "</table>\n",
       "</div>"
      ],
      "text/plain": [
       "     Name  Age       City\n",
       "0  akshay   21  Ahmedabad\n",
       "1     jay   22  Ahmedabad\n",
       "2   hiren   21  Ahmedabad"
      ]
     },
     "execution_count": 35,
     "metadata": {},
     "output_type": "execute_result"
    }
   ],
   "source": [
    "df"
   ]
  },
  {
   "cell_type": "code",
   "execution_count": null,
   "id": "3bb8b86d",
   "metadata": {},
   "outputs": [],
   "source": []
  }
 ],
 "metadata": {
  "kernelspec": {
   "display_name": "Python 3 (ipykernel)",
   "language": "python",
   "name": "python3"
  },
  "language_info": {
   "codemirror_mode": {
    "name": "ipython",
    "version": 3
   },
   "file_extension": ".py",
   "mimetype": "text/x-python",
   "name": "python",
   "nbconvert_exporter": "python",
   "pygments_lexer": "ipython3",
   "version": "3.10.9"
  }
 },
 "nbformat": 4,
 "nbformat_minor": 5
}
