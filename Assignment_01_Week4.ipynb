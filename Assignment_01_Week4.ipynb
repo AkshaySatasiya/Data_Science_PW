{
 "cells": [
  {
   "cell_type": "markdown",
   "id": "89141ed5",
   "metadata": {},
   "source": [
    "# Q1. Explain Class and Object with respect to Object-Oriented Programming. Give a suitable example.\n"
   ]
  },
  {
   "cell_type": "markdown",
   "id": "e5246f82",
   "metadata": {},
   "source": [
    "Object have states and behaviours.\n",
    "\n",
    "Ex.\n",
    "\n",
    "A dog has states - color, breed, as well as behaviours - wagging the tail, barking, eating.\n",
    "\n",
    "An object is an instance of a class.\n",
    "\n",
    "class- A class can be defined as a template/blueprint that describes the behaviour that the object of its type support."
   ]
  },
  {
   "cell_type": "code",
   "execution_count": 12,
   "id": "5a2e25dd",
   "metadata": {},
   "outputs": [],
   "source": [
    "class animal:\n",
    "    \n",
    "    def eating(self):\n",
    "        print('animal is eating')\n",
    "        \n",
    "    def walking(self):\n",
    "        print('animal is walking')"
   ]
  },
  {
   "cell_type": "code",
   "execution_count": 13,
   "id": "1885565a",
   "metadata": {},
   "outputs": [],
   "source": [
    "dog = animal()"
   ]
  },
  {
   "cell_type": "code",
   "execution_count": 14,
   "id": "61492f76",
   "metadata": {},
   "outputs": [
    {
     "name": "stdout",
     "output_type": "stream",
     "text": [
      "animal is eating\n"
     ]
    }
   ],
   "source": [
    "dog.eating()"
   ]
  },
  {
   "cell_type": "code",
   "execution_count": 15,
   "id": "675a25bf",
   "metadata": {},
   "outputs": [
    {
     "name": "stdout",
     "output_type": "stream",
     "text": [
      "animal is walking\n"
     ]
    }
   ],
   "source": [
    "dog.walking()"
   ]
  },
  {
   "cell_type": "markdown",
   "id": "af1ff2da",
   "metadata": {},
   "source": [
    "# Q2. Name the four pillars of OOPs.\n"
   ]
  },
  {
   "cell_type": "markdown",
   "id": "96ed55e2",
   "metadata": {},
   "source": [
    "Following are the four pillers of object oriented programming\n",
    "    \n",
    "    Abstraction\n",
    "    \n",
    "    Encapsulation\n",
    "    \n",
    "    Inheritance\n",
    "    \n",
    "    Polymorphism"
   ]
  },
  {
   "cell_type": "markdown",
   "id": "64ef5d22",
   "metadata": {},
   "source": [
    "# Q3. Explain why the __init__() function is used. Give a suitable example.\n"
   ]
  },
  {
   "cell_type": "markdown",
   "id": "cfce7ba9",
   "metadata": {},
   "source": [
    "__init__() is a special python method that runs whenever a new object is created. "
   ]
  },
  {
   "cell_type": "markdown",
   "id": "396b2cf2",
   "metadata": {},
   "source": [
    "These types of functions are used to initialize the attributes of that class."
   ]
  },
  {
   "cell_type": "code",
   "execution_count": 17,
   "id": "6ea8b80a",
   "metadata": {},
   "outputs": [],
   "source": [
    "class person:\n",
    "    \n",
    "    def __init__(self, name, age):\n",
    "        self.name = name\n",
    "        self.age = age"
   ]
  },
  {
   "cell_type": "code",
   "execution_count": 19,
   "id": "58d7d95b",
   "metadata": {},
   "outputs": [],
   "source": [
    "akshay = person('Akshay',22)"
   ]
  },
  {
   "cell_type": "markdown",
   "id": "ea9455a4",
   "metadata": {},
   "source": [
    "# Q4. Why self is used in OOPs?\n"
   ]
  },
  {
   "cell_type": "markdown",
   "id": "90af616a",
   "metadata": {},
   "source": [
    "THe use of self makes it easier to distinguish between instance attributes from the local attributes.\n",
    "\n",
    "In the above example __self.name__ is a instance attribute whereas __name__ is a local attribute. They are not the same and they lie in different namespaces."
   ]
  },
  {
   "cell_type": "markdown",
   "id": "c10b8be8",
   "metadata": {},
   "source": [
    "# Q5. What is inheritance? Give an example for each type of inheritance.\n"
   ]
  },
  {
   "cell_type": "markdown",
   "id": "0b4e00fd",
   "metadata": {},
   "source": [
    "Inheritance is a mechanism in which one class acquires the propery of another class. \n",
    "\n",
    "With inheritance we can reuse the fields and methods of the existing class"
   ]
  },
  {
   "cell_type": "markdown",
   "id": "a08dd242",
   "metadata": {},
   "source": [
    "For example, a child inherits the traits of his/her parents."
   ]
  },
  {
   "cell_type": "markdown",
   "id": "f6180999",
   "metadata": {},
   "source": [
    "There are __5__ types of inheritance \n",
    "\n",
    "1. __Single inheritance__"
   ]
  },
  {
   "cell_type": "code",
   "execution_count": 25,
   "id": "71e13bfc",
   "metadata": {},
   "outputs": [],
   "source": [
    "class parent:\n",
    "    pass"
   ]
  },
  {
   "cell_type": "code",
   "execution_count": 21,
   "id": "59f7588a",
   "metadata": {},
   "outputs": [],
   "source": [
    "class child(parent):\n",
    "    pass"
   ]
  },
  {
   "cell_type": "markdown",
   "id": "0546c9f5",
   "metadata": {},
   "source": [
    "2. __Multiple inheritance__"
   ]
  },
  {
   "cell_type": "code",
   "execution_count": 22,
   "id": "c8a0ce80",
   "metadata": {},
   "outputs": [],
   "source": [
    "class mother:\n",
    "    pass"
   ]
  },
  {
   "cell_type": "code",
   "execution_count": 23,
   "id": "2a5ae994",
   "metadata": {},
   "outputs": [],
   "source": [
    "class father:\n",
    "    pass"
   ]
  },
  {
   "cell_type": "code",
   "execution_count": 24,
   "id": "f6f85266",
   "metadata": {},
   "outputs": [],
   "source": [
    "class child(mother,father):\n",
    "    pass"
   ]
  },
  {
   "cell_type": "markdown",
   "id": "076a5bd6",
   "metadata": {},
   "source": [
    "3. __Multilevel inheritance__"
   ]
  },
  {
   "cell_type": "code",
   "execution_count": 28,
   "id": "753a9b27",
   "metadata": {},
   "outputs": [],
   "source": [
    "class grandparent:\n",
    "    pass"
   ]
  },
  {
   "cell_type": "code",
   "execution_count": 29,
   "id": "fc9083f4",
   "metadata": {},
   "outputs": [],
   "source": [
    "class parents(grandparent):\n",
    "    pass"
   ]
  },
  {
   "cell_type": "code",
   "execution_count": 31,
   "id": "59d5c7cf",
   "metadata": {},
   "outputs": [],
   "source": [
    "class child(parents):\n",
    "    pass"
   ]
  },
  {
   "cell_type": "markdown",
   "id": "f345d040",
   "metadata": {},
   "source": [
    "4. __Hierarchical inheritance__"
   ]
  },
  {
   "cell_type": "code",
   "execution_count": 32,
   "id": "1ed1b16c",
   "metadata": {},
   "outputs": [],
   "source": [
    "class parent:\n",
    "    pass"
   ]
  },
  {
   "cell_type": "code",
   "execution_count": 33,
   "id": "4d23a510",
   "metadata": {},
   "outputs": [],
   "source": [
    "class child1(parent):\n",
    "    pass"
   ]
  },
  {
   "cell_type": "code",
   "execution_count": 34,
   "id": "fbe26aac",
   "metadata": {},
   "outputs": [],
   "source": [
    "class child2(parent):\n",
    "    pass"
   ]
  },
  {
   "cell_type": "code",
   "execution_count": 35,
   "id": "e0099ea7",
   "metadata": {},
   "outputs": [],
   "source": [
    "class child3(parent):\n",
    "    pass"
   ]
  },
  {
   "cell_type": "markdown",
   "id": "9437d2fa",
   "metadata": {},
   "source": [
    "5. __Hybrid inheritance__"
   ]
  },
  {
   "cell_type": "code",
   "execution_count": 36,
   "id": "4e2fecf4",
   "metadata": {},
   "outputs": [],
   "source": [
    "class A:\n",
    "    pass "
   ]
  },
  {
   "cell_type": "code",
   "execution_count": 37,
   "id": "6526d266",
   "metadata": {},
   "outputs": [],
   "source": [
    "class B:\n",
    "    pass"
   ]
  },
  {
   "cell_type": "code",
   "execution_count": 38,
   "id": "0589753e",
   "metadata": {},
   "outputs": [],
   "source": [
    "class C(A):\n",
    "    pass"
   ]
  },
  {
   "cell_type": "code",
   "execution_count": 39,
   "id": "44ed11d0",
   "metadata": {},
   "outputs": [],
   "source": [
    "class D(A,B):\n",
    "    pass"
   ]
  },
  {
   "cell_type": "code",
   "execution_count": null,
   "id": "67376148",
   "metadata": {},
   "outputs": [],
   "source": []
  }
 ],
 "metadata": {
  "kernelspec": {
   "display_name": "Python 3 (ipykernel)",
   "language": "python",
   "name": "python3"
  },
  "language_info": {
   "codemirror_mode": {
    "name": "ipython",
    "version": 3
   },
   "file_extension": ".py",
   "mimetype": "text/x-python",
   "name": "python",
   "nbconvert_exporter": "python",
   "pygments_lexer": "ipython3",
   "version": "3.10.9"
  }
 },
 "nbformat": 4,
 "nbformat_minor": 5
}
