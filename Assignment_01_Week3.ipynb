{
 "cells": [
  {
   "cell_type": "markdown",
   "id": "b5e0ba2b",
   "metadata": {},
   "source": [
    "# Q1. Which keyword is used to create a function? Create a function to return a list of odd numbers in the range of 1 to 25."
   ]
  },
  {
   "cell_type": "markdown",
   "id": "a20b685f",
   "metadata": {},
   "source": [
    "def keyword is used to create function."
   ]
  },
  {
   "cell_type": "code",
   "execution_count": 3,
   "id": "eb7c8a55",
   "metadata": {},
   "outputs": [],
   "source": [
    "def odd_num(n):\n",
    "    l1 = []\n",
    "    for i in range(n+1):\n",
    "        if i%2 != 0:\n",
    "            l1.append(i)\n",
    "    return l1"
   ]
  },
  {
   "cell_type": "code",
   "execution_count": 4,
   "id": "160d66fb",
   "metadata": {},
   "outputs": [
    {
     "data": {
      "text/plain": [
       "[1, 3, 5, 7, 9, 11, 13, 15, 17, 19, 21, 23, 25]"
      ]
     },
     "execution_count": 4,
     "metadata": {},
     "output_type": "execute_result"
    }
   ],
   "source": [
    "odd_num(25)"
   ]
  },
  {
   "cell_type": "markdown",
   "id": "ed99a1f2",
   "metadata": {},
   "source": [
    "# Q2. Why *args and **kwargs is used in some functions? Create a function each for *args and **kwargs to demonstrate their use."
   ]
  },
  {
   "cell_type": "markdown",
   "id": "03077843",
   "metadata": {},
   "source": [
    "*args and **kwargs is used to make python function flexible so it can accept variable number of arguments and keyword arguments.\n",
    "\n",
    "*args"
   ]
  },
  {
   "cell_type": "code",
   "execution_count": 8,
   "id": "1a5dc31f",
   "metadata": {},
   "outputs": [],
   "source": [
    "from functools import reduce\n",
    "\n",
    "def sum(*args):\n",
    "    return (reduce(lambda x,y: x+y, args))"
   ]
  },
  {
   "cell_type": "code",
   "execution_count": 10,
   "id": "f816d06d",
   "metadata": {},
   "outputs": [
    {
     "data": {
      "text/plain": [
       "15"
      ]
     },
     "execution_count": 10,
     "metadata": {},
     "output_type": "execute_result"
    }
   ],
   "source": [
    "sum(1,2,3,4,5)"
   ]
  },
  {
   "cell_type": "markdown",
   "id": "589ab8e7",
   "metadata": {},
   "source": [
    "**kwargs"
   ]
  },
  {
   "cell_type": "code",
   "execution_count": 1,
   "id": "e9792e6f",
   "metadata": {},
   "outputs": [],
   "source": [
    "def concatenate(**kwargs):\n",
    "    result = ''\n",
    "    for arg in kwargs.values():\n",
    "        result = result+arg\n",
    "    return result"
   ]
  },
  {
   "cell_type": "code",
   "execution_count": 7,
   "id": "64c55793",
   "metadata": {},
   "outputs": [
    {
     "name": "stdout",
     "output_type": "stream",
     "text": [
      "AkshaySatasiya\n"
     ]
    }
   ],
   "source": [
    "print(concatenate(name='Akshay', surname='Satasiya'))"
   ]
  },
  {
   "cell_type": "markdown",
   "id": "3b68fdcc",
   "metadata": {},
   "source": [
    "# Q3.  What is an iterator in python? Name the method used to initialise the iterator object and the method used for iteration. Use these methods to print the first five elements of the given list [2, 4, 6, 8, 10, 12, 14, 16, 18, 20]."
   ]
  },
  {
   "cell_type": "markdown",
   "id": "018604e2",
   "metadata": {},
   "source": [
    "iterator is an object that allows you to iterate over collections of data , such as lists, tuples, dictionaries, and sets."
   ]
  },
  {
   "cell_type": "markdown",
   "id": "a9f0f51d",
   "metadata": {},
   "source": [
    "iter() method is initialise the object. this method converts iterable to iterator."
   ]
  },
  {
   "cell_type": "code",
   "execution_count": 9,
   "id": "47b01c5c",
   "metadata": {},
   "outputs": [],
   "source": [
    "lst = [2,4,6,8,10,12,14,16,18,20]"
   ]
  },
  {
   "cell_type": "code",
   "execution_count": 12,
   "id": "0c7bbd5f",
   "metadata": {},
   "outputs": [],
   "source": [
    "lst = iter(lst)"
   ]
  },
  {
   "cell_type": "code",
   "execution_count": 13,
   "id": "8764ae69",
   "metadata": {},
   "outputs": [
    {
     "data": {
      "text/plain": [
       "2"
      ]
     },
     "execution_count": 13,
     "metadata": {},
     "output_type": "execute_result"
    }
   ],
   "source": [
    "next(lst)"
   ]
  },
  {
   "cell_type": "code",
   "execution_count": 14,
   "id": "c5e123b1",
   "metadata": {},
   "outputs": [
    {
     "data": {
      "text/plain": [
       "4"
      ]
     },
     "execution_count": 14,
     "metadata": {},
     "output_type": "execute_result"
    }
   ],
   "source": [
    "next(lst)"
   ]
  },
  {
   "cell_type": "code",
   "execution_count": 15,
   "id": "485b06df",
   "metadata": {},
   "outputs": [
    {
     "data": {
      "text/plain": [
       "6"
      ]
     },
     "execution_count": 15,
     "metadata": {},
     "output_type": "execute_result"
    }
   ],
   "source": [
    "next(lst)"
   ]
  },
  {
   "cell_type": "code",
   "execution_count": 16,
   "id": "86baf289",
   "metadata": {},
   "outputs": [
    {
     "data": {
      "text/plain": [
       "8"
      ]
     },
     "execution_count": 16,
     "metadata": {},
     "output_type": "execute_result"
    }
   ],
   "source": [
    "next(lst)"
   ]
  },
  {
   "cell_type": "code",
   "execution_count": 17,
   "id": "99882909",
   "metadata": {},
   "outputs": [
    {
     "data": {
      "text/plain": [
       "10"
      ]
     },
     "execution_count": 17,
     "metadata": {},
     "output_type": "execute_result"
    }
   ],
   "source": [
    "next(lst)"
   ]
  },
  {
   "cell_type": "markdown",
   "id": "a10c51af",
   "metadata": {},
   "source": [
    "# Q4.  What is a generator function in python? Why yield keyword is used? Give an example of a generator function."
   ]
  },
  {
   "cell_type": "markdown",
   "id": "327cf52a",
   "metadata": {},
   "source": [
    "generator is a fnction that returns an iterator that produces a sequence of values when iterated over."
   ]
  },
  {
   "cell_type": "markdown",
   "id": "e5f24426",
   "metadata": {},
   "source": [
    "The yield statement returns a generator object to the one who calls the function which contains yield, instead of simply returning a value."
   ]
  },
  {
   "cell_type": "code",
   "execution_count": 23,
   "id": "d9d5fb90",
   "metadata": {},
   "outputs": [],
   "source": [
    "def fibo(n):\n",
    "    a,b = 0,1\n",
    "    for i in range(n):\n",
    "        yield a\n",
    "        a,b = b,a+b"
   ]
  },
  {
   "cell_type": "code",
   "execution_count": 25,
   "id": "cb7c9fba",
   "metadata": {},
   "outputs": [
    {
     "data": {
      "text/plain": [
       "[0, 1, 1, 2, 3, 5, 8, 13, 21, 34]"
      ]
     },
     "execution_count": 25,
     "metadata": {},
     "output_type": "execute_result"
    }
   ],
   "source": [
    "list(fibo(10))"
   ]
  },
  {
   "cell_type": "markdown",
   "id": "2e4c7519",
   "metadata": {},
   "source": [
    "# Q5. Create a generator function for prime numbers less than 1000. Use the next() method to print the first 20 prime numbers."
   ]
  },
  {
   "cell_type": "code",
   "execution_count": 53,
   "id": "317f74a1",
   "metadata": {},
   "outputs": [],
   "source": [
    "def prime_num(n):\n",
    "    for i in range(2,n+1):        \n",
    "        prime = True\n",
    "        for j in range(2,i):\n",
    "            if i%j == 0:\n",
    "                prime = False\n",
    "                break\n",
    "        if(prime):\n",
    "            yield i\n"
   ]
  },
  {
   "cell_type": "code",
   "execution_count": 54,
   "id": "96a212fa",
   "metadata": {
    "scrolled": true
   },
   "outputs": [],
   "source": [
    "prime = prime_num(1000)"
   ]
  },
  {
   "cell_type": "code",
   "execution_count": 55,
   "id": "c6424ba6",
   "metadata": {},
   "outputs": [
    {
     "name": "stdout",
     "output_type": "stream",
     "text": [
      "2\n",
      "3\n",
      "5\n",
      "7\n",
      "11\n",
      "13\n",
      "17\n",
      "19\n",
      "23\n",
      "29\n",
      "31\n",
      "37\n",
      "41\n",
      "43\n",
      "47\n",
      "53\n",
      "59\n",
      "61\n",
      "67\n",
      "71\n"
     ]
    }
   ],
   "source": [
    "for i in range(20):\n",
    "    print(next(prime))"
   ]
  },
  {
   "cell_type": "markdown",
   "id": "9b78b57b",
   "metadata": {},
   "source": [
    "# Q6. Write a python program to print the first 10 Fibonacci numbers using a while loop.\n"
   ]
  },
  {
   "cell_type": "code",
   "execution_count": 62,
   "id": "98325a00",
   "metadata": {},
   "outputs": [],
   "source": [
    "def print_fib(n):\n",
    "    a,b = 0,1\n",
    "    count = 1\n",
    "    while count<=n:\n",
    "        print(a)\n",
    "        a,b = b,a+b\n",
    "        count = count +1"
   ]
  },
  {
   "cell_type": "code",
   "execution_count": 63,
   "id": "048d88f9",
   "metadata": {},
   "outputs": [
    {
     "name": "stdout",
     "output_type": "stream",
     "text": [
      "0\n",
      "1\n",
      "1\n",
      "2\n",
      "3\n",
      "5\n",
      "8\n",
      "13\n",
      "21\n",
      "34\n"
     ]
    }
   ],
   "source": [
    "print_fib(10)"
   ]
  },
  {
   "cell_type": "markdown",
   "id": "5bbb00f1",
   "metadata": {},
   "source": [
    "# Q7. Write a List Comprehension to iterate through the given string: ‘pwskills’.Expected output: ['p', 'w', 's', 'k', 'i', 'l', 'l', 's'] "
   ]
  },
  {
   "cell_type": "code",
   "execution_count": 67,
   "id": "ad9be349",
   "metadata": {},
   "outputs": [],
   "source": [
    "lst = 'pwskills'"
   ]
  },
  {
   "cell_type": "code",
   "execution_count": 68,
   "id": "1f709bf1",
   "metadata": {},
   "outputs": [],
   "source": [
    "lst = [x for x in lst]"
   ]
  },
  {
   "cell_type": "code",
   "execution_count": 69,
   "id": "7752a449",
   "metadata": {},
   "outputs": [
    {
     "data": {
      "text/plain": [
       "['p', 'w', 's', 'k', 'i', 'l', 'l', 's']"
      ]
     },
     "execution_count": 69,
     "metadata": {},
     "output_type": "execute_result"
    }
   ],
   "source": [
    "lst"
   ]
  },
  {
   "cell_type": "markdown",
   "id": "d87b52f1",
   "metadata": {},
   "source": [
    "# Q8. Write a python program to check whether a given number is Palindrome or not using a while loop.\n"
   ]
  },
  {
   "cell_type": "code",
   "execution_count": 81,
   "id": "657c9065",
   "metadata": {},
   "outputs": [],
   "source": [
    "def check_palindrome(n):\n",
    "    num = n\n",
    "    reverse = 0\n",
    "    while n>0:\n",
    "        reminder = n%10\n",
    "        reverse = reverse*10+reminder\n",
    "        n = n//10\n",
    "\n",
    "    if num == reverse:\n",
    "        return True\n",
    "    else:\n",
    "        return False"
   ]
  },
  {
   "cell_type": "code",
   "execution_count": 83,
   "id": "2be0eafb",
   "metadata": {},
   "outputs": [
    {
     "data": {
      "text/plain": [
       "True"
      ]
     },
     "execution_count": 83,
     "metadata": {},
     "output_type": "execute_result"
    }
   ],
   "source": [
    "check_palindrome(121)"
   ]
  },
  {
   "cell_type": "markdown",
   "id": "0418ffa0",
   "metadata": {},
   "source": [
    "# Q9. Write a code to print odd numbers from 1 to 100 using list comprehension.\n"
   ]
  },
  {
   "cell_type": "code",
   "execution_count": 2,
   "id": "c9a8adb6",
   "metadata": {},
   "outputs": [],
   "source": [
    "nums = [x for x in range(100)]"
   ]
  },
  {
   "cell_type": "code",
   "execution_count": 3,
   "id": "6a1f61f8",
   "metadata": {},
   "outputs": [],
   "source": [
    "lst = [x for x in nums if x%2!=0]"
   ]
  },
  {
   "cell_type": "code",
   "execution_count": 4,
   "id": "30b09e70",
   "metadata": {},
   "outputs": [
    {
     "data": {
      "text/plain": [
       "[1,\n",
       " 3,\n",
       " 5,\n",
       " 7,\n",
       " 9,\n",
       " 11,\n",
       " 13,\n",
       " 15,\n",
       " 17,\n",
       " 19,\n",
       " 21,\n",
       " 23,\n",
       " 25,\n",
       " 27,\n",
       " 29,\n",
       " 31,\n",
       " 33,\n",
       " 35,\n",
       " 37,\n",
       " 39,\n",
       " 41,\n",
       " 43,\n",
       " 45,\n",
       " 47,\n",
       " 49,\n",
       " 51,\n",
       " 53,\n",
       " 55,\n",
       " 57,\n",
       " 59,\n",
       " 61,\n",
       " 63,\n",
       " 65,\n",
       " 67,\n",
       " 69,\n",
       " 71,\n",
       " 73,\n",
       " 75,\n",
       " 77,\n",
       " 79,\n",
       " 81,\n",
       " 83,\n",
       " 85,\n",
       " 87,\n",
       " 89,\n",
       " 91,\n",
       " 93,\n",
       " 95,\n",
       " 97,\n",
       " 99]"
      ]
     },
     "execution_count": 4,
     "metadata": {},
     "output_type": "execute_result"
    }
   ],
   "source": [
    "lst"
   ]
  },
  {
   "cell_type": "code",
   "execution_count": null,
   "id": "7a128ee0",
   "metadata": {},
   "outputs": [],
   "source": []
  }
 ],
 "metadata": {
  "kernelspec": {
   "display_name": "Python 3 (ipykernel)",
   "language": "python",
   "name": "python3"
  },
  "language_info": {
   "codemirror_mode": {
    "name": "ipython",
    "version": 3
   },
   "file_extension": ".py",
   "mimetype": "text/x-python",
   "name": "python",
   "nbconvert_exporter": "python",
   "pygments_lexer": "ipython3",
   "version": "3.10.9"
  }
 },
 "nbformat": 4,
 "nbformat_minor": 5
}
