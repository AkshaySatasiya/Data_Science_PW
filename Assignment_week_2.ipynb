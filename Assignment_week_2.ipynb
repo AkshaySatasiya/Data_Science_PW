{
 "cells": [
  {
   "cell_type": "markdown",
   "id": "9453ec12",
   "metadata": {},
   "source": [
    "# Q1. How do you comment code in Python? What are the different types of comments?\n"
   ]
  },
  {
   "cell_type": "markdown",
   "id": "f71a56a2",
   "metadata": {},
   "source": [
    "There are two types of comments\n",
    "    \n",
    "    single line comments\n",
    "    multi line comments\n",
    "    \n",
    "single line comments\n",
    "    \n",
    "    For single line comments we use #.\n",
    "   \n",
    "Ex."
   ]
  },
  {
   "cell_type": "code",
   "execution_count": 2,
   "id": "50acffe0",
   "metadata": {},
   "outputs": [],
   "source": [
    "# my name is akshay"
   ]
  },
  {
   "cell_type": "markdown",
   "id": "9d3bf062",
   "metadata": {},
   "source": [
    "Multi line comments \n",
    "\n",
    "    for multiline comments we use triple quotes (''' or \"\"\")\n",
    "    \n",
    "Ex."
   ]
  },
  {
   "cell_type": "code",
   "execution_count": 3,
   "id": "38c9b4df",
   "metadata": {},
   "outputs": [
    {
     "data": {
      "text/plain": [
       "'My name is akshay\\nI am from ahmedabad'"
      ]
     },
     "execution_count": 3,
     "metadata": {},
     "output_type": "execute_result"
    }
   ],
   "source": [
    "'''My name is akshay\n",
    "I am from ahmedabad'''"
   ]
  },
  {
   "cell_type": "markdown",
   "id": "1d4687a0",
   "metadata": {},
   "source": [
    "# Q2. What are variables in Python? How do you declare and assign values to variables?\n"
   ]
  },
  {
   "cell_type": "markdown",
   "id": "b12f3e4b",
   "metadata": {},
   "source": [
    "In python variables is used to store data. \n",
    "\n",
    "We can declare variables useing equals to sign."
   ]
  },
  {
   "cell_type": "code",
   "execution_count": 4,
   "id": "87a3c30b",
   "metadata": {},
   "outputs": [],
   "source": [
    "name = 'Akshay'"
   ]
  },
  {
   "cell_type": "markdown",
   "id": "5fe4d87f",
   "metadata": {},
   "source": [
    "# Q3. How do you convert one data type to another in Python?\n"
   ]
  },
  {
   "cell_type": "markdown",
   "id": "22b7f38f",
   "metadata": {},
   "source": [
    "We can convert from one to another data type in python using type casting.\n",
    "\n",
    "Ex."
   ]
  },
  {
   "cell_type": "code",
   "execution_count": 6,
   "id": "f882b7fb",
   "metadata": {},
   "outputs": [
    {
     "data": {
      "text/plain": [
       "str"
      ]
     },
     "execution_count": 6,
     "metadata": {},
     "output_type": "execute_result"
    }
   ],
   "source": [
    "num = '123'\n",
    "type(num)"
   ]
  },
  {
   "cell_type": "code",
   "execution_count": 7,
   "id": "b4010320",
   "metadata": {},
   "outputs": [
    {
     "data": {
      "text/plain": [
       "int"
      ]
     },
     "execution_count": 7,
     "metadata": {},
     "output_type": "execute_result"
    }
   ],
   "source": [
    "num = int(num)\n",
    "type(num)"
   ]
  },
  {
   "cell_type": "markdown",
   "id": "566912b0",
   "metadata": {},
   "source": [
    "# Q4. How do you write and execute a Python script from the command line?\n"
   ]
  },
  {
   "cell_type": "markdown",
   "id": "bedc7db7",
   "metadata": {},
   "source": [
    "first open the command line then type python followed by the path of the file you want to execute and than hit the enter button, and that's it. "
   ]
  },
  {
   "cell_type": "markdown",
   "id": "3fadd048",
   "metadata": {},
   "source": [
    "# Q5. Given a list my_list = [1, 2, 3, 4, 5], write the code to slice the list and obtain the sub-list [2, 3].\n"
   ]
  },
  {
   "cell_type": "code",
   "execution_count": 8,
   "id": "460fb7f8",
   "metadata": {},
   "outputs": [],
   "source": [
    "my_list = [1,2,3,4,5]"
   ]
  },
  {
   "cell_type": "code",
   "execution_count": 10,
   "id": "fea29bbb",
   "metadata": {},
   "outputs": [
    {
     "data": {
      "text/plain": [
       "[2, 3]"
      ]
     },
     "execution_count": 10,
     "metadata": {},
     "output_type": "execute_result"
    }
   ],
   "source": [
    "sub_list = my_list[1:3]\n",
    "sub_list"
   ]
  },
  {
   "cell_type": "markdown",
   "id": "55540cdb",
   "metadata": {},
   "source": [
    "# Q6. What is a complex number in mathematics, and how is it represented in Python?\n"
   ]
  },
  {
   "cell_type": "markdown",
   "id": "929e1854",
   "metadata": {},
   "source": [
    "complex numbers are the numbers that are expressed in the form of \"a+ib\"\n",
    "where a and b are real numbers and i is imaginary number.\n",
    "\n",
    "In python we can sotre it like "
   ]
  },
  {
   "cell_type": "code",
   "execution_count": 14,
   "id": "18e609d7",
   "metadata": {},
   "outputs": [],
   "source": [
    "num = 5 + 8j"
   ]
  },
  {
   "cell_type": "markdown",
   "id": "64dbcc0e",
   "metadata": {},
   "source": [
    "# Q7. What is the correct way to declare a variable named age and assign the value 25 to it?\n"
   ]
  },
  {
   "cell_type": "code",
   "execution_count": 16,
   "id": "047ad7f5",
   "metadata": {},
   "outputs": [],
   "source": [
    "age = 25"
   ]
  },
  {
   "cell_type": "markdown",
   "id": "cd531c37",
   "metadata": {},
   "source": [
    "This is the correct way to declare variable and assign the value"
   ]
  },
  {
   "cell_type": "markdown",
   "id": "19b41296",
   "metadata": {},
   "source": [
    "# Q8. Declare a variable named price and assign the value 9.99 to it. What data type does this variable belong to?"
   ]
  },
  {
   "cell_type": "code",
   "execution_count": 17,
   "id": "ee6c39d4",
   "metadata": {},
   "outputs": [],
   "source": [
    "price = 9.99"
   ]
  },
  {
   "cell_type": "code",
   "execution_count": 18,
   "id": "8c716690",
   "metadata": {},
   "outputs": [
    {
     "data": {
      "text/plain": [
       "float"
      ]
     },
     "execution_count": 18,
     "metadata": {},
     "output_type": "execute_result"
    }
   ],
   "source": [
    "type(price)"
   ]
  },
  {
   "cell_type": "markdown",
   "id": "75931e57",
   "metadata": {},
   "source": [
    "# Q9. Create a variable named name and assign your full name to it as a string. How would you print the value of this variable?"
   ]
  },
  {
   "cell_type": "code",
   "execution_count": 19,
   "id": "4c12d4a6",
   "metadata": {},
   "outputs": [],
   "source": [
    "name = 'Akshay Satasiya'"
   ]
  },
  {
   "cell_type": "code",
   "execution_count": 20,
   "id": "6941b756",
   "metadata": {},
   "outputs": [
    {
     "name": "stdout",
     "output_type": "stream",
     "text": [
      "Akshay Satasiya\n"
     ]
    }
   ],
   "source": [
    "# To print the value we use print function\n",
    "print(name)"
   ]
  },
  {
   "cell_type": "markdown",
   "id": "40401ac0",
   "metadata": {},
   "source": [
    "# Q10. Given the string \"Hello, World!\", extract the substring \"World\".\n"
   ]
  },
  {
   "cell_type": "code",
   "execution_count": 21,
   "id": "97ecec6b",
   "metadata": {},
   "outputs": [],
   "source": [
    "str = 'Hello World!'"
   ]
  },
  {
   "cell_type": "code",
   "execution_count": 22,
   "id": "cd1d813d",
   "metadata": {},
   "outputs": [
    {
     "data": {
      "text/plain": [
       "' World'"
      ]
     },
     "execution_count": 22,
     "metadata": {},
     "output_type": "execute_result"
    }
   ],
   "source": [
    "str[5:11]"
   ]
  },
  {
   "cell_type": "markdown",
   "id": "b4fa382f",
   "metadata": {},
   "source": [
    "# Q11. Create a variable named \"is_student\" and assign it a boolean value indicating whether you are currently a student or not."
   ]
  },
  {
   "cell_type": "code",
   "execution_count": 23,
   "id": "b369c921",
   "metadata": {},
   "outputs": [],
   "source": [
    "is_student = True"
   ]
  }
 ],
 "metadata": {
  "kernelspec": {
   "display_name": "Python 3 (ipykernel)",
   "language": "python",
   "name": "python3"
  },
  "language_info": {
   "codemirror_mode": {
    "name": "ipython",
    "version": 3
   },
   "file_extension": ".py",
   "mimetype": "text/x-python",
   "name": "python",
   "nbconvert_exporter": "python",
   "pygments_lexer": "ipython3",
   "version": "3.10.9"
  }
 },
 "nbformat": 4,
 "nbformat_minor": 5
}
