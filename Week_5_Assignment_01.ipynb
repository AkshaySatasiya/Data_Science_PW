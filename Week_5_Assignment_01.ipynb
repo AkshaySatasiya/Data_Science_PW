{
 "cells": [
  {
   "cell_type": "code",
   "execution_count": 19,
   "id": "33f490e4",
   "metadata": {},
   "outputs": [],
   "source": [
    "import logging\n",
    "logging.basicConfig(filename='Assignment_1.log',level=logging.DEBUG)"
   ]
  },
  {
   "cell_type": "markdown",
   "id": "37ee762d",
   "metadata": {},
   "source": [
    "# Q1. What is an Exception in python? Write the difference between Exceptions and syntax errors."
   ]
  },
  {
   "cell_type": "markdown",
   "id": "1293b1b3",
   "metadata": {},
   "source": [
    "An Exception is an event, which occurs during the execution of a program that disrupts the normal flow of the progran's instruction."
   ]
  },
  {
   "cell_type": "markdown",
   "id": "c97498ab",
   "metadata": {},
   "source": [
    "An __Exception__ is an event that occurs during the program execution and disrupts the normal flow of the program's execution\n",
    "\n",
    "__Errors__ mostly happen at compile-time like syntax error. however it can happen at runtime as well. Whereas an exception occurs at runtime"
   ]
  },
  {
   "cell_type": "markdown",
   "id": "17b1531a",
   "metadata": {},
   "source": [
    "# Q2. What happens when an exception is not handled? Explain with an example."
   ]
  },
  {
   "cell_type": "markdown",
   "id": "58be6791",
   "metadata": {},
   "source": [
    "When an exception occurred, if you don't jandle it, __the program terminates abruptly and the code past the line that caused the exception will not get exected.__"
   ]
  },
  {
   "cell_type": "code",
   "execution_count": 20,
   "id": "1494fce2",
   "metadata": {},
   "outputs": [
    {
     "ename": "ZeroDivisionError",
     "evalue": "division by zero",
     "output_type": "error",
     "traceback": [
      "\u001b[1;31m---------------------------------------------------------------------------\u001b[0m",
      "\u001b[1;31mZeroDivisionError\u001b[0m                         Traceback (most recent call last)",
      "Cell \u001b[1;32mIn[20], line 2\u001b[0m\n\u001b[0;32m      1\u001b[0m a \u001b[38;5;241m=\u001b[39m \u001b[38;5;241m10\u001b[39m\n\u001b[1;32m----> 2\u001b[0m \u001b[43ma\u001b[49m\u001b[38;5;241;43m/\u001b[39;49m\u001b[38;5;241;43m0\u001b[39;49m\n\u001b[0;32m      3\u001b[0m logging\u001b[38;5;241m.\u001b[39merror(\u001b[38;5;124m'\u001b[39m\u001b[38;5;124mZero division error\u001b[39m\u001b[38;5;124m'\u001b[39m)\n\u001b[0;32m      4\u001b[0m \u001b[38;5;28mprint\u001b[39m(\u001b[38;5;124m'\u001b[39m\u001b[38;5;124mHelloo\u001b[39m\u001b[38;5;124m'\u001b[39m)\n",
      "\u001b[1;31mZeroDivisionError\u001b[0m: division by zero"
     ]
    }
   ],
   "source": [
    "a = 10\n",
    "a/0\n",
    "logging.error('Zero division error')\n",
    "print('Helloo')"
   ]
  },
  {
   "cell_type": "markdown",
   "id": "eb24ad5c",
   "metadata": {},
   "source": [
    "# Q3. Which python statements are used to catch and handle exceptions? Explain with an example."
   ]
  },
  {
   "cell_type": "markdown",
   "id": "240c39aa",
   "metadata": {},
   "source": [
    "The __try__ and __except__ block in python is used to catch and handle exceptions."
   ]
  },
  {
   "cell_type": "markdown",
   "id": "b12950d7",
   "metadata": {},
   "source": [
    "Python executes code following the try statement as a __\"normal\"__ part of the program. The code that follows the __except__ statement is the programs response to any exceptions in the preceding try clause"
   ]
  },
  {
   "cell_type": "code",
   "execution_count": 22,
   "id": "382ff7f0",
   "metadata": {},
   "outputs": [
    {
     "name": "stdout",
     "output_type": "stream",
     "text": [
      "Exception:  division by zero\n",
      "The program is executing...\n"
     ]
    }
   ],
   "source": [
    "try:\n",
    "    a = 10\n",
    "    b = a/0\n",
    "except Exception as e:\n",
    "    logging.error('Exception {}'.format(e))\n",
    "    print('Exception: ',e)\n",
    "\n",
    "logging.info('The program is executing...')\n",
    "print('The program is executing...')"
   ]
  },
  {
   "cell_type": "markdown",
   "id": "1e44eb40",
   "metadata": {},
   "source": [
    "# Q4. Explain with an example:\n",
    "   ## a. try and else"
   ]
  },
  {
   "cell_type": "markdown",
   "id": "adbde56d",
   "metadata": {},
   "source": [
    "We can write try and else block together. __Only on successfull execution of try block the else block will executes.__"
   ]
  },
  {
   "cell_type": "code",
   "execution_count": 24,
   "id": "26a6a170",
   "metadata": {},
   "outputs": [
    {
     "name": "stdout",
     "output_type": "stream",
     "text": [
      "the program is executed successfully\n"
     ]
    }
   ],
   "source": [
    "try:\n",
    "    a = 10\n",
    "    b = a/2\n",
    "except Exception as e:\n",
    "    logging.error('Exception {}'.format(e))\n",
    "    print(e)\n",
    "else:\n",
    "    logging.info('the program is executed successfully')\n",
    "    print('the program is executed successfully')"
   ]
  },
  {
   "cell_type": "markdown",
   "id": "99b17202",
   "metadata": {},
   "source": [
    "## b. finally\n"
   ]
  },
  {
   "cell_type": "markdown",
   "id": "f6b51844",
   "metadata": {},
   "source": [
    "Finally block will execute no matter exception occurs or not."
   ]
  },
  {
   "cell_type": "code",
   "execution_count": 25,
   "id": "76dc1a96",
   "metadata": {},
   "outputs": [
    {
     "name": "stdout",
     "output_type": "stream",
     "text": [
      "division by zero\n",
      "The try and except block is executed successfully.\n"
     ]
    }
   ],
   "source": [
    "try:\n",
    "    a = 10\n",
    "    b = a/0\n",
    "except ZeroDivisionError as e:\n",
    "    logging.error('Exception {}'.format(e))\n",
    "    print(e)\n",
    "finally:\n",
    "    logging.info('The try and except block is executed successfully.')\n",
    "    print('The try and except block is executed successfully.')"
   ]
  },
  {
   "cell_type": "markdown",
   "id": "939b5482",
   "metadata": {},
   "source": [
    "## c. raise"
   ]
  },
  {
   "cell_type": "markdown",
   "id": "6cc6286b",
   "metadata": {},
   "source": [
    "the raise keyword is used to raise an exception."
   ]
  },
  {
   "cell_type": "code",
   "execution_count": 26,
   "id": "b5baaa75",
   "metadata": {},
   "outputs": [
    {
     "name": "stdout",
     "output_type": "stream",
     "text": [
      "Enter your age: -15\n"
     ]
    },
    {
     "ename": "TypeError",
     "evalue": "Age cannot be negative",
     "output_type": "error",
     "traceback": [
      "\u001b[1;31m---------------------------------------------------------------------------\u001b[0m",
      "\u001b[1;31mTypeError\u001b[0m                                 Traceback (most recent call last)",
      "Cell \u001b[1;32mIn[26], line 9\u001b[0m\n\u001b[0;32m      7\u001b[0m \u001b[38;5;28;01mif\u001b[39;00m age \u001b[38;5;241m<\u001b[39m \u001b[38;5;241m0\u001b[39m:\n\u001b[0;32m      8\u001b[0m     logging\u001b[38;5;241m.\u001b[39mwarning(\u001b[38;5;124m'\u001b[39m\u001b[38;5;124mAge cannot be negative\u001b[39m\u001b[38;5;124m'\u001b[39m)\n\u001b[1;32m----> 9\u001b[0m     \u001b[38;5;28;01mraise\u001b[39;00m \u001b[38;5;167;01mTypeError\u001b[39;00m(\u001b[38;5;124m'\u001b[39m\u001b[38;5;124mAge cannot be negative\u001b[39m\u001b[38;5;124m'\u001b[39m)\n",
      "\u001b[1;31mTypeError\u001b[0m: Age cannot be negative"
     ]
    }
   ],
   "source": [
    "try:\n",
    "    age = int(input('Enter your age: '))\n",
    "except Exception as e:\n",
    "    logging.error('Exception {}'.format(e))\n",
    "    print(e)\n",
    "finally:\n",
    "    if age < 0:\n",
    "        logging.warning('Age cannot be negative')\n",
    "        raise TypeError('Age cannot be negative')"
   ]
  },
  {
   "cell_type": "markdown",
   "id": "12709288",
   "metadata": {},
   "source": [
    "# Q5. What are Custom Exceptions in python? Why do we need Custom Exceptions? Explain with an example."
   ]
  },
  {
   "cell_type": "markdown",
   "id": "c48052e0",
   "metadata": {},
   "source": [
    " Some times based on __project requirement__, a programmer needs to create his own exception and raise explicitly for corresponding scenarios.  Such types of exceptions are called __customized Exceptions__."
   ]
  },
  {
   "cell_type": "markdown",
   "id": "759a74af",
   "metadata": {},
   "source": [
    "We can raise a custom exception by using the keyword __raise__."
   ]
  },
  {
   "cell_type": "markdown",
   "id": "cdfd67cd",
   "metadata": {},
   "source": [
    "Having custom exceptions \n",
    "    \n",
    "    - tailored to your specific use cases and that you can raise and catch in specific circumstances \n",
    "    \n",
    "    - can make code much more readable and robust, and reduce the amount of code you write later to try and figure out what exactly went wrong "
   ]
  },
  {
   "cell_type": "markdown",
   "id": "99db67e1",
   "metadata": {},
   "source": [
    "# Q6. Create,custom exception class. Use this class to handle an exception."
   ]
  },
  {
   "cell_type": "code",
   "execution_count": 28,
   "id": "5b0161da",
   "metadata": {},
   "outputs": [],
   "source": [
    "class validate_income(Exception):\n",
    "    \n",
    "    def __init__(self, msg):\n",
    "        self.msg = msg"
   ]
  },
  {
   "cell_type": "code",
   "execution_count": 35,
   "id": "709efd02",
   "metadata": {},
   "outputs": [],
   "source": [
    "def income_validator(income):\n",
    "    if income > 250000:\n",
    "        logging.info('As your income is more than 250000, so you are not eligible for scholarship')\n",
    "        raise validate_income('As your income is more than 250000, so you are not eligible for scholarship')\n",
    "    elif income < 0:\n",
    "        logging.info('Income can not be negative.')\n",
    "        raise validate_income('Income can not be negative.')\n",
    "    else :\n",
    "        logging.info('you are eligible for scholarship')\n",
    "        print('you are eligible for scholarship')"
   ]
  },
  {
   "cell_type": "code",
   "execution_count": 38,
   "id": "dcee095c",
   "metadata": {},
   "outputs": [
    {
     "name": "stdout",
     "output_type": "stream",
     "text": [
      "Enter your income: -15\n",
      "Income can not be negative.\n"
     ]
    }
   ],
   "source": [
    "try:\n",
    "    income = int(input('Enter your income: '))\n",
    "    income_validator(income)\n",
    "except validate_income as e:\n",
    "    logging.error('Exception {}'.format(e))\n",
    "    print(e)"
   ]
  },
  {
   "cell_type": "markdown",
   "id": "50995811",
   "metadata": {},
   "source": []
  }
 ],
 "metadata": {
  "kernelspec": {
   "display_name": "Python 3 (ipykernel)",
   "language": "python",
   "name": "python3"
  },
  "language_info": {
   "codemirror_mode": {
    "name": "ipython",
    "version": 3
   },
   "file_extension": ".py",
   "mimetype": "text/x-python",
   "name": "python",
   "nbconvert_exporter": "python",
   "pygments_lexer": "ipython3",
   "version": "3.10.9"
  }
 },
 "nbformat": 4,
 "nbformat_minor": 5
}
