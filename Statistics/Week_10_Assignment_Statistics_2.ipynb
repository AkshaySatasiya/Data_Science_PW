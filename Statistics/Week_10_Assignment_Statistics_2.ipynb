{
 "cells": [
  {
   "cell_type": "markdown",
   "id": "b314bd8a",
   "metadata": {},
   "source": [
    "# Q1. What are the three measures of central tendency?"
   ]
  },
  {
   "cell_type": "markdown",
   "id": "f0437347",
   "metadata": {},
   "source": [
    "A measure of central tendency is a summary measure that attempts to describe a whole set of data with a single value that represents the middle or centre of its distribution.\n",
    "\n",
    "There are three main measures of central tendency:\n",
    "\n",
    "    1.Mode\n",
    "    2.Median \n",
    "    3.Mean"
   ]
  },
  {
   "cell_type": "markdown",
   "id": "bd02da82",
   "metadata": {},
   "source": [
    "# Q2. What is the difference between the mean, median, and mode? How are they used to measure the central tendency of a dataset?"
   ]
  },
  {
   "cell_type": "markdown",
   "id": "573f3b72",
   "metadata": {},
   "source": [
    "__1. Mean__\n",
    "\n",
    "The average taken for a set of numbers is called a mean.\n",
    "\n",
    "__2. Median__\n",
    "\n",
    "The middle value in the data set is called the median.\n",
    "\n",
    "__3. Mode__\n",
    "\n",
    "The number that occurs the most in a given list of numbers is called a mode.\n",
    "\n",
    "The average taken of given observation is called Mean. The midde number in a given set of observations is called Median. The most frequently occured number in a given set of observations is called Mode."
   ]
  },
  {
   "cell_type": "markdown",
   "id": "a68cada5",
   "metadata": {},
   "source": [
    "# Q3. Measure the three measures of central tendency for the given height data:\n",
    "[178,177,176,177,178.2,178,175,179,180,175,178.9,176.2,177,172.5,178,176.5]"
   ]
  },
  {
   "cell_type": "code",
   "execution_count": 6,
   "id": "4b1c78fb",
   "metadata": {},
   "outputs": [],
   "source": [
    "import numpy as np\n",
    "from scipy import stats\n",
    "\n",
    "data = [178,177,176,177,178.2,178,175,179,180,175,178.9,176.2,177,172.5,178,176.5]"
   ]
  },
  {
   "cell_type": "code",
   "execution_count": 7,
   "id": "e700d6e4",
   "metadata": {},
   "outputs": [
    {
     "data": {
      "text/plain": [
       "177.01875"
      ]
     },
     "execution_count": 7,
     "metadata": {},
     "output_type": "execute_result"
    }
   ],
   "source": [
    "# Mean\n",
    "np.mean(data)"
   ]
  },
  {
   "cell_type": "code",
   "execution_count": 8,
   "id": "983de58e",
   "metadata": {},
   "outputs": [
    {
     "data": {
      "text/plain": [
       "177.0"
      ]
     },
     "execution_count": 8,
     "metadata": {},
     "output_type": "execute_result"
    }
   ],
   "source": [
    "#Median \n",
    "np.median(data)"
   ]
  },
  {
   "cell_type": "code",
   "execution_count": 11,
   "id": "e905fd9e",
   "metadata": {},
   "outputs": [
    {
     "name": "stderr",
     "output_type": "stream",
     "text": [
      "C:\\Users\\akshay\\AppData\\Local\\Temp\\ipykernel_3952\\100146759.py:2: FutureWarning: Unlike other reduction functions (e.g. `skew`, `kurtosis`), the default behavior of `mode` typically preserves the axis it acts along. In SciPy 1.11.0, this behavior will change: the default value of `keepdims` will become False, the `axis` over which the statistic is taken will be eliminated, and the value None will no longer be accepted. Set `keepdims` to True or False to avoid this warning.\n",
      "  stats.mode(data)\n"
     ]
    },
    {
     "data": {
      "text/plain": [
       "ModeResult(mode=array([177.]), count=array([3]))"
      ]
     },
     "execution_count": 11,
     "metadata": {},
     "output_type": "execute_result"
    }
   ],
   "source": [
    "#Mode\n",
    "stats.mode(data)"
   ]
  },
  {
   "cell_type": "markdown",
   "id": "02f9a969",
   "metadata": {},
   "source": [
    "# Q4. Find the standard deviation for the given data:\n",
    "[178,177,176,177,178.2,178,175,179,180,175,178.9,176.2,177,172.5,178,176.5]"
   ]
  },
  {
   "cell_type": "code",
   "execution_count": 14,
   "id": "e282516e",
   "metadata": {},
   "outputs": [],
   "source": [
    "data = [178,177,176,177,178.2,178,175,179,180,175,178.9,176.2,177,172.5,178,176.5]"
   ]
  },
  {
   "cell_type": "code",
   "execution_count": 15,
   "id": "26ce13d0",
   "metadata": {},
   "outputs": [
    {
     "data": {
      "text/plain": [
       "1.7885814036548633"
      ]
     },
     "execution_count": 15,
     "metadata": {},
     "output_type": "execute_result"
    }
   ],
   "source": [
    "np.std(data)"
   ]
  },
  {
   "cell_type": "markdown",
   "id": "d69fc5e2",
   "metadata": {},
   "source": [
    "# Q5. How are measures of dispersion such as range, variance, and standard deviation used to describe the spread of a dataset? Provide an example."
   ]
  },
  {
   "cell_type": "markdown",
   "id": "05515d44",
   "metadata": {},
   "source": [
    "Measures of dispersion, such as range, variance, and standard deviation, are __used to describe the spread or variability of a dataset.__ They provide information about how the individual data points are scattered around the central tendency of the data. Let's look at each measure and an example to illustrate their usage:"
   ]
  },
  {
   "cell_type": "markdown",
   "id": "97877067",
   "metadata": {},
   "source": [
    "__Range:__\n",
    "\n",
    "The range is the simplest measure of dispersion and is calculated as the difference between the maximum and minimum values in the dataset. It provides an idea of the total spread of the data.\n",
    "Example:\n",
    "\n",
    "Consider the following dataset representing the daily temperatures in degrees Celsius for a city over a week: \n",
    "\n",
    "{28, 30, 32, 26, 29, 31, 27}.\n",
    "\n",
    "To calculate the range:\n",
    "\n",
    "Range = Maximum value - Minimum value\n",
    "\n",
    "Range = 32 - 26\n",
    "\n",
    "Range = 6\n",
    "\n",
    "So, the range of the temperatures over the week is 6 degrees Celsius."
   ]
  },
  {
   "cell_type": "markdown",
   "id": "1c9b3e22",
   "metadata": {},
   "source": [
    "__Variance:__ \n",
    "\n",
    "Variance measures how far individual data points are from the mean of the dataset. It is the average of the squared differences between each data point and the mean.\n",
    "\n",
    "Example:\n",
    "\n",
    "Let's continue with the same temperature dataset and calculate the variance:\n",
    "\n",
    "\n",
    "   Step 1: Calculate the mean temperature:\n",
    "\n",
    "    Mean = (28 + 30 + 32 + 26 + 29 + 31 + 27) / 7\n",
    "\n",
    "    Mean = 28.71 (rounded to two decimal places)\n",
    "\n",
    "\n",
    "Step 2: Calculate the squared differences between each temperature and the mean:\n",
    "\n",
    "    (28 - 28.71)^2 ≈ 0.51\n",
    "    (30 - 28.71)^2 ≈ 1.65\n",
    "    (32 - 28.71)^2 ≈ 10.88\n",
    "    (26 - 28.71)^2 ≈ 7.24\n",
    "    (29 - 28.71)^2 ≈ 0.09\n",
    "    (31 - 28.71)^2 ≈ 5.29\n",
    "    (27 - 28.71)^2 ≈ 2.73\n",
    "\n",
    "Step 3: Calculate the variance as the average of the squared differences:\n",
    "\n",
    "    Variance = (0.51 + 1.65 + 10.88 + 7.24 + 0.09 + 5.29 + 2.73) / 7 ≈ 3.52 (rounded to two decimal places)\n",
    "\n",
    "So, the variance of the temperatures is approximately 3.52 square degrees Celsius."
   ]
  },
  {
   "cell_type": "markdown",
   "id": "1acb3d7f",
   "metadata": {},
   "source": [
    "__Standard Deviation:__ \n",
    "\n",
    "The standard deviation is the square root of the variance and is often preferred as a measure of dispersion because it has the same unit as the data.\n",
    "\n",
    "Example:\n",
    "\n",
    "Continuing with the same temperature dataset, we can calculate the standard deviation:\n",
    "\n",
    "    Standard Deviation = √Variance\n",
    "    Standard Deviation = √3.52 ≈ 1.88 (rounded to two decimal places)\n",
    "\n",
    "The standard deviation of the temperatures is approximately 1.88 degrees Celsius.\n",
    "\n",
    "In summary, the range, variance, and standard deviation provide different ways to describe the spread of data. The range gives a simple measure of the overall spread, while the variance and standard deviation give more insight into how individual data points deviate from the mean."
   ]
  },
  {
   "cell_type": "markdown",
   "id": "7397ef19",
   "metadata": {},
   "source": [
    "# Q6. What is a Venn diagram?"
   ]
  },
  {
   "cell_type": "markdown",
   "id": "4e544c13",
   "metadata": {},
   "source": [
    "A Venn diagram __uses overlapping circles or other shapes to illustrate the logical relationships between two or more sets of items.__ Often, they serve to graphically organize things, highlighting how the items are similar and different."
   ]
  },
  {
   "cell_type": "markdown",
   "id": "467e9664",
   "metadata": {},
   "source": [
    "# Q7. For the two given sets A = (2,3,4,5,6,7) & B = (0,2,6,8,10). Find:\n",
    "(i) A B & \n",
    "(ii) A ⋃ B"
   ]
  },
  {
   "cell_type": "code",
   "execution_count": 5,
   "id": "70d40839",
   "metadata": {},
   "outputs": [],
   "source": [
    "A = {2,3,4,5,6,7}\n",
    "B = {0,2,6,8,10}"
   ]
  },
  {
   "cell_type": "code",
   "execution_count": 6,
   "id": "ec147203",
   "metadata": {},
   "outputs": [
    {
     "data": {
      "text/plain": [
       "{2, 6}"
      ]
     },
     "execution_count": 6,
     "metadata": {},
     "output_type": "execute_result"
    }
   ],
   "source": [
    "A.intersection(B)"
   ]
  },
  {
   "cell_type": "code",
   "execution_count": 7,
   "id": "affbbba9",
   "metadata": {},
   "outputs": [
    {
     "data": {
      "text/plain": [
       "{0, 2, 3, 4, 5, 6, 7, 8, 10}"
      ]
     },
     "execution_count": 7,
     "metadata": {},
     "output_type": "execute_result"
    }
   ],
   "source": [
    "A.union(B)"
   ]
  },
  {
   "cell_type": "markdown",
   "id": "dd12b359",
   "metadata": {},
   "source": [
    "# Q8. What do you understand about skewness in data?"
   ]
  },
  {
   "cell_type": "markdown",
   "id": "b08c8a2c",
   "metadata": {},
   "source": [
    "Skewness is a measure of the asymmetry of a distribution. A distribution is asymmetrical when its left and right side are not mirror images. \n",
    "\n",
    "You might want to calculate the skewness of a distribution to: Describe the distribution of a variable alongside other descriptive statistics."
   ]
  },
  {
   "cell_type": "markdown",
   "id": "5efd091a",
   "metadata": {},
   "source": [
    "# Q9. If a data is right skewed then what will be the position of median with respect to mean?"
   ]
  },
  {
   "cell_type": "markdown",
   "id": "7e1ce34c",
   "metadata": {},
   "source": [
    "If the distribution of data is skewed to the right, the mode is often less than the median, which is less than the mean."
   ]
  },
  {
   "cell_type": "markdown",
   "id": "c41719fa",
   "metadata": {},
   "source": [
    "# Q10. Explain the difference between covariance and correlation. How are these measures used in statistical analysis?"
   ]
  },
  {
   "cell_type": "markdown",
   "id": "0a7537dd",
   "metadata": {},
   "source": [
    "__Covariance__ is an indicator of the extent to which 2 random variables are dependent on each other. A higher number denotes higher dependency. \n",
    "    \n",
    "    The value of covariance lies in the range of -∞ and +∞.\n",
    "\n",
    "\n",
    "__Correlation__ is a statistical measure that indicates how strongly two variables are related.\n",
    "    \n",
    "    Correlation is limited to values between the range -1 and +1"
   ]
  },
  {
   "cell_type": "markdown",
   "id": "74b3fa76",
   "metadata": {},
   "source": [
    "# Q11. What is the formula for calculating the sample mean? Provide an example calculation for a dataset."
   ]
  },
  {
   "cell_type": "markdown",
   "id": "3d7a4fe5",
   "metadata": {},
   "source": [
    "The formula for calculating the sample mean is straightforward. To find the sample mean, you sum up all the values in the dataset and then divide that sum by the number of data points in the sample.\n",
    "\n",
    "Formula for sample mean (X̄) of a dataset with n data points:\n",
    "\n",
    "X̄ = (Σx) / n\n",
    "\n",
    "Where:\n",
    "\n",
    "    X̄ = Sample mean\n",
    "    Σx = Sum of all data points in the dataset\n",
    "    n = Number of data points in the dataset"
   ]
  },
  {
   "cell_type": "code",
   "execution_count": 8,
   "id": "b558b119",
   "metadata": {},
   "outputs": [
    {
     "data": {
      "text/plain": [
       "67.11111111111111"
      ]
     },
     "execution_count": 8,
     "metadata": {},
     "output_type": "execute_result"
    }
   ],
   "source": [
    "dataset = [85,90,78,25,58,56,86,78,48]\n",
    "\n",
    "sample_mean = sum(dataset) / len(dataset)\n",
    "sample_mean"
   ]
  },
  {
   "cell_type": "markdown",
   "id": "c68330fc",
   "metadata": {},
   "source": [
    "# Q12. For a normal distribution data what is the relationship between its measure of central tendency?"
   ]
  },
  {
   "cell_type": "markdown",
   "id": "ed6e473d",
   "metadata": {},
   "source": [
    "For a normal distribution, the three main measures of central tendency - the mean, median, and mode - are all equal to each other. In a perfectly symmetrical normal distribution, the values are evenly distributed around the center, resulting in the same value for all three measures.\n",
    "\n",
    "To illustrate this relationship, let's take a look at each measure:\n",
    "\n",
    "__Mean:__ The mean of a normal distribution is the arithmetic average of all the data points. Since the normal distribution is symmetric, the mean is located exactly at the center of the distribution.\n",
    "\n",
    "__Median:__ The median is the middle value in a dataset when the data is sorted in ascending order. For a perfectly symmetrical normal distribution, the median is also at the center of the distribution.\n",
    "\n",
    "__Mode:__ The mode is the value that occurs most frequently in the dataset. In a normal distribution, all values have the same frequency since the distribution is symmetric around the mean. Therefore, every value in the distribution is a mode, and they are all equal to the mean and median.\n",
    "\n",
    "In summary, for a normal distribution:\n",
    "__Mean = Median = Mode__"
   ]
  },
  {
   "cell_type": "markdown",
   "id": "d36b8bed",
   "metadata": {},
   "source": [
    "# Q13. How is covariance different from correlation?"
   ]
  },
  {
   "cell_type": "markdown",
   "id": "e8911bc8",
   "metadata": {},
   "source": [
    "Both covariance and correlation measure the relationship and the dependency between two variables. \n",
    "\n",
    "__Covariance__ indicates the direction of the linear relationship between variables. \n",
    "\n",
    "__Correlation__ measures both the strength and direction of the linear relationship between two variables."
   ]
  },
  {
   "cell_type": "markdown",
   "id": "d4dd4393",
   "metadata": {},
   "source": [
    "# Q14. How do outliers affect measures of central tendency and dispersion? Provide an example."
   ]
  },
  {
   "cell_type": "markdown",
   "id": "413d2630",
   "metadata": {},
   "source": [
    "Outliers are numbers in a data set that are vastly larger or smaller than the other values in the set.\n"
   ]
  },
  {
   "cell_type": "markdown",
   "id": "3a0e7d00",
   "metadata": {},
   "source": [
    "Example:\n",
    "\n",
    "Consider the following dataset representing the ages of a group of individuals in years: \n",
    "\n",
    "    {20, 22, 25, 23, 21, 24, 26, 28, 25, 23, 24}.\n",
    "\n",
    "Measures of Central Tendency:\n",
    "\n",
    "    Mean: The mean is the sum of all values divided by the number of data points.\n",
    "    Mean = (20 + 22 + 25 + 23 + 21 + 24 + 26 + 28 + 25 + 23 + 24) / 11 ≈ 24.18 (rounded to two decimal places).\n",
    "\n",
    "    Median: The median is the middle value when the data is sorted in ascending order.\n",
    "    Median = 24.\n",
    "\n",
    "    Mode: The mode is the most frequent value in the dataset.\n",
    "    Mode = 25 and 23 (both occur twice).\n",
    "\n",
    "Measures of Dispersion:\n",
    "\n",
    "    Range: The range is the difference between the maximum and minimum values.\n",
    "    Range = 28 - 20 = 8.\n",
    "\n",
    "    Variance: The variance is the average of the squared differences between each data point and the mean.\n",
    "    Variance ≈ 4.47 (rounded to two decimal places).\n",
    "\n",
    "    Standard Deviation: The standard deviation is the square root of the variance.\n",
    "    Standard Deviation ≈ 2.11 (rounded to two decimal places).\n",
    "\n",
    "\n",
    "Now, let's introduce an outlier into the dataset: \n",
    "\n",
    "    {20, 22, 25, 23, 21, 24, 26, 28, 25, 23, 24, 65}.\n",
    "\n",
    "With the outlier (65) included:\n",
    "\n",
    "    Mean = (20 + 22 + 25 + 23 + 21 + 24 + 26 + 28 + 25 + 23 + 24 + 65) / 12 ≈ 28.75 (rounded to two decimal places).\n",
    "    Median = 24.\n",
    "    Mode = 25 and 23 (both occur twice).\n",
    "    Range = 65 - 20 = 45.\n",
    "    Variance ≈ 231.58 (rounded to two decimal places).\n",
    "    Standard Deviation ≈ 15.21 (rounded to two decimal places)."
   ]
  },
  {
   "cell_type": "code",
   "execution_count": null,
   "id": "1446589e",
   "metadata": {},
   "outputs": [],
   "source": []
  }
 ],
 "metadata": {
  "kernelspec": {
   "display_name": "Python 3 (ipykernel)",
   "language": "python",
   "name": "python3"
  },
  "language_info": {
   "codemirror_mode": {
    "name": "ipython",
    "version": 3
   },
   "file_extension": ".py",
   "mimetype": "text/x-python",
   "name": "python",
   "nbconvert_exporter": "python",
   "pygments_lexer": "ipython3",
   "version": "3.10.9"
  }
 },
 "nbformat": 4,
 "nbformat_minor": 5
}
