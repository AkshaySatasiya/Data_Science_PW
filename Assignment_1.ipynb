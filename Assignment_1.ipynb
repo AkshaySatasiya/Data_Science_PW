{
 "cells": [
  {
   "cell_type": "markdown",
   "id": "37a3e7c9",
   "metadata": {},
   "source": [
    "# Q-1"
   ]
  },
  {
   "cell_type": "code",
   "execution_count": 1,
   "id": "bf8deaa5",
   "metadata": {},
   "outputs": [
    {
     "name": "stdout",
     "output_type": "stream",
     "text": [
      "<class 'str'>\n",
      "<class 'list'>\n",
      "<class 'float'>\n",
      "<class 'tuple'>\n"
     ]
    }
   ],
   "source": [
    "lst = ['Akshay', [1,2,3], 5.11, (1,2,3)]\n",
    "for i in lst :\n",
    "    print(type(i))"
   ]
  },
  {
   "cell_type": "markdown",
   "id": "13c89451",
   "metadata": {},
   "source": [
    "# Q-2"
   ]
  },
  {
   "cell_type": "code",
   "execution_count": 4,
   "id": "60bf9134",
   "metadata": {},
   "outputs": [
    {
     "name": "stdout",
     "output_type": "stream",
     "text": [
      "<class 'str'>\n",
      "<class 'str'>\n",
      "<class 'list'>\n",
      "<class 'float'>\n"
     ]
    }
   ],
   "source": [
    "var1=''\n",
    "var2 = '[DS,ML,Python]'\n",
    "var3 = ['DS','ML','Python']\n",
    "var4 = 1.\n",
    "\n",
    "print(type(var1))\n",
    "print(type(var2))\n",
    "print(type(var3))\n",
    "print(type(var4))"
   ]
  },
  {
   "cell_type": "markdown",
   "id": "feb20a3a",
   "metadata": {},
   "source": [
    "# Q-3"
   ]
  },
  {
   "cell_type": "code",
   "execution_count": 8,
   "id": "3aa4090c",
   "metadata": {},
   "outputs": [
    {
     "name": "stdout",
     "output_type": "stream",
     "text": [
      "4.5\n"
     ]
    }
   ],
   "source": [
    "# / Division operator: It is used to devide numbers\n",
    "a = 9\n",
    "b = 2\n",
    "\n",
    "print(a/b)"
   ]
  },
  {
   "cell_type": "code",
   "execution_count": 9,
   "id": "561d0786",
   "metadata": {},
   "outputs": [
    {
     "name": "stdout",
     "output_type": "stream",
     "text": [
      "1\n"
     ]
    }
   ],
   "source": [
    "# % Modulus Operator: It is user to get the reminder \n",
    "print(a%b)"
   ]
  },
  {
   "cell_type": "code",
   "execution_count": 11,
   "id": "273c6e4a",
   "metadata": {},
   "outputs": [
    {
     "name": "stdout",
     "output_type": "stream",
     "text": [
      "4\n"
     ]
    }
   ],
   "source": [
    "# // Floor devision: It always take the floor or the lower number. WE can see the difference from above division.\n",
    "print(a//b)"
   ]
  },
  {
   "cell_type": "code",
   "execution_count": 12,
   "id": "40a3e6ee",
   "metadata": {},
   "outputs": [
    {
     "name": "stdout",
     "output_type": "stream",
     "text": [
      "81\n"
     ]
    }
   ],
   "source": [
    "# ** Exponentiation : it is used as a power operator\n",
    "print(a**b)"
   ]
  },
  {
   "cell_type": "markdown",
   "id": "86914e2b",
   "metadata": {},
   "source": [
    "# Q-4"
   ]
  },
  {
   "cell_type": "code",
   "execution_count": 15,
   "id": "64cbcefc",
   "metadata": {},
   "outputs": [
    {
     "name": "stdout",
     "output_type": "stream",
     "text": [
      "1\n",
      "<class 'int'>\n",
      "\n",
      "2\n",
      "<class 'int'>\n",
      "\n",
      "3\n",
      "<class 'int'>\n",
      "\n",
      "4\n",
      "<class 'int'>\n",
      "\n",
      "5\n",
      "<class 'int'>\n",
      "\n",
      "Akshay\n",
      "<class 'str'>\n",
      "\n",
      "5.11\n",
      "<class 'float'>\n",
      "\n",
      "Ahmedabad\n",
      "<class 'str'>\n",
      "\n",
      "(9+2j)\n",
      "<class 'complex'>\n",
      "\n",
      "[10, 11, 12]\n",
      "<class 'list'>\n",
      "\n"
     ]
    }
   ],
   "source": [
    "lst = [1,2,3,4,5,'Akshay',5.11,'Ahmedabad',9+2j,[10,11,12]]\n",
    "\n",
    "for i in lst:\n",
    "    print(i)\n",
    "    print(type(i))\n",
    "    print()"
   ]
  },
  {
   "cell_type": "markdown",
   "id": "8114862f",
   "metadata": {},
   "source": [
    "# Q-5"
   ]
  },
  {
   "cell_type": "code",
   "execution_count": 30,
   "id": "652abc02",
   "metadata": {},
   "outputs": [
    {
     "name": "stdout",
     "output_type": "stream",
     "text": [
      "a is 3 times purely divisible by b\n"
     ]
    }
   ],
   "source": [
    "a = 500\n",
    "b = 5\n",
    "count = 0\n",
    "while a%b == 0:\n",
    "    count = count + 1\n",
    "    a = a / b\n",
    "\n",
    "    \n",
    "print(f'a is {count} times purely divisible by b')"
   ]
  },
  {
   "cell_type": "markdown",
   "id": "e5ade206",
   "metadata": {},
   "source": [
    "# Q-6"
   ]
  },
  {
   "cell_type": "code",
   "execution_count": 31,
   "id": "5b36238c",
   "metadata": {},
   "outputs": [
    {
     "name": "stdout",
     "output_type": "stream",
     "text": [
      "1 is not divisible 3\n",
      "2 is not divisible 3\n",
      "3 is divisible by 3\n",
      "4 is not divisible 3\n",
      "5 is not divisible 3\n",
      "6 is divisible by 3\n",
      "7 is not divisible 3\n",
      "8 is not divisible 3\n",
      "9 is divisible by 3\n",
      "10 is not divisible 3\n",
      "11 is not divisible 3\n",
      "12 is divisible by 3\n",
      "13 is not divisible 3\n",
      "14 is not divisible 3\n",
      "15 is divisible by 3\n",
      "16 is not divisible 3\n",
      "17 is not divisible 3\n",
      "18 is divisible by 3\n",
      "19 is not divisible 3\n",
      "20 is not divisible 3\n",
      "21 is divisible by 3\n",
      "22 is not divisible 3\n",
      "23 is not divisible 3\n",
      "24 is divisible by 3\n",
      "25 is not divisible 3\n"
     ]
    }
   ],
   "source": [
    "lst = [1,2,3,4,5,6,7,8,9,10,11,12,13,14,15,16,17,18,19,20,21,22,23,24,25]\n",
    "\n",
    "for i in lst:\n",
    "    if i%3 == 0:\n",
    "        print(f'{i} is divisible by 3')\n",
    "    else:\n",
    "        print(f'{i} is not divisible 3')"
   ]
  },
  {
   "cell_type": "markdown",
   "id": "46a71d5a",
   "metadata": {},
   "source": [
    "# Q-7"
   ]
  },
  {
   "cell_type": "markdown",
   "id": "ff0ef1a9",
   "metadata": {},
   "source": [
    "immutable data-type:  \n",
    "\n",
    "    we can not modify or altered after they have been created. \n",
    "    like we can not add new element, can't remove element or we can't replace any element\n",
    "    \n",
    "    ex. String"
   ]
  },
  {
   "cell_type": "code",
   "execution_count": 32,
   "id": "a7e8f92d",
   "metadata": {},
   "outputs": [
    {
     "ename": "TypeError",
     "evalue": "'str' object does not support item assignment",
     "output_type": "error",
     "traceback": [
      "\u001b[1;31m---------------------------------------------------------------------------\u001b[0m",
      "\u001b[1;31mTypeError\u001b[0m                                 Traceback (most recent call last)",
      "Cell \u001b[1;32mIn[32], line 3\u001b[0m\n\u001b[0;32m      1\u001b[0m name \u001b[38;5;241m=\u001b[39m \u001b[38;5;124m'\u001b[39m\u001b[38;5;124mAkshay\u001b[39m\u001b[38;5;124m'\u001b[39m\n\u001b[1;32m----> 3\u001b[0m name[\u001b[38;5;241m1\u001b[39m] \u001b[38;5;241m=\u001b[39m \u001b[38;5;124m'\u001b[39m\u001b[38;5;124mJ\u001b[39m\u001b[38;5;124m'\u001b[39m\n",
      "\u001b[1;31mTypeError\u001b[0m: 'str' object does not support item assignment"
     ]
    }
   ],
   "source": [
    "name = 'Akshay'\n",
    "\n",
    "name[1] = 'J'"
   ]
  },
  {
   "cell_type": "markdown",
   "id": "6fb7c2b5",
   "metadata": {},
   "source": [
    "Mutable data-type:\n",
    "\n",
    "    we can modify even after they have been created.\n",
    "    we can modify it, we can add new elements, and we can replace any \n",
    "    element\n",
    "\n",
    "    ex. list"
   ]
  },
  {
   "cell_type": "code",
   "execution_count": 36,
   "id": "095927c2",
   "metadata": {},
   "outputs": [
    {
     "name": "stdout",
     "output_type": "stream",
     "text": [
      "[8, 2, 3, 4, 5]\n"
     ]
    }
   ],
   "source": [
    "lst = [1,2,3,4]\n",
    "lst.append(5)\n",
    "lst[0] = 8\n",
    "\n",
    "print(lst)"
   ]
  }
 ],
 "metadata": {
  "kernelspec": {
   "display_name": "Python 3 (ipykernel)",
   "language": "python",
   "name": "python3"
  },
  "language_info": {
   "codemirror_mode": {
    "name": "ipython",
    "version": 3
   },
   "file_extension": ".py",
   "mimetype": "text/x-python",
   "name": "python",
   "nbconvert_exporter": "python",
   "pygments_lexer": "ipython3",
   "version": "3.10.9"
  }
 },
 "nbformat": 4,
 "nbformat_minor": 5
}
