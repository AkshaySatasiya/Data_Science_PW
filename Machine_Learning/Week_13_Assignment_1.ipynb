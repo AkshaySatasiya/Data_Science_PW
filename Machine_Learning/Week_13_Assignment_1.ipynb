{
 "cells": [
  {
   "cell_type": "markdown",
   "id": "6980c70f",
   "metadata": {},
   "source": [
    "# Q1- Explain the following with an Example:\n",
    "    1) Artificial Intelligence\n",
    "    2) Machine Learning,\n",
    "    3) Deep Learning"
   ]
  },
  {
   "cell_type": "markdown",
   "id": "c2b085d7",
   "metadata": {},
   "source": [
    "__Artificial Intelligence:__ a program that can sense, reason, act and adapt.\n",
    "\n",
    "__Machine Learning:__ algorithms whose performance improve as they are exposed to more data over time. \n",
    "\n",
    "__Deep Learning:__ subset of machine learning in which multilayered neural networks learn from vast amounts of data."
   ]
  },
  {
   "cell_type": "markdown",
   "id": "cf6782c1",
   "metadata": {},
   "source": [
    "# Q2- What is supervised learning? List some examples of supervised learning."
   ]
  },
  {
   "cell_type": "markdown",
   "id": "2f564108",
   "metadata": {},
   "source": [
    "Supervised learning, also known as __supervised machine learning__, is a subcategory of machine learning and artificial intelligence. \n",
    "\n",
    "It is defined by its use of __labeled datasets to train algorithms that to classify data or predict outcomes accurately.__\n",
    "\n",
    "Example: \n",
    "\n",
    "    1. decision tree, \n",
    "    2. logistic regression, \n",
    "    3. linear regression,\n",
    "    4. support vector machine"
   ]
  },
  {
   "cell_type": "markdown",
   "id": "74ef23af",
   "metadata": {},
   "source": [
    "# Q3- What is unsupervised learning? List some examples of unsupervised learning."
   ]
  },
  {
   "cell_type": "markdown",
   "id": "94d3e7c5",
   "metadata": {},
   "source": [
    "Unsupervised learning, also known as unsupervised machine learning, uses machine learning algorithms __to analyze and cluster unlabeled datasets__. \n",
    "\n",
    "These algorithms __discover hidden patterns or data groupings without the need for human intervention__.\n",
    "\n",
    "Examples:\n",
    "\n",
    "    1.dimension reduction\n",
    "    2.clustering"
   ]
  },
  {
   "cell_type": "markdown",
   "id": "a863b794",
   "metadata": {},
   "source": [
    "# Q4- What is the difference between AI, ML, DL, and DS?"
   ]
  },
  {
   "cell_type": "markdown",
   "id": "ccdca611",
   "metadata": {},
   "source": [
    "__AI__ is a __computer algorithm which exhibits intelligence through decision making.__\n",
    "\n",
    "__ML__ is an __AI algorithm which allows system to learn from data.__\n",
    "\n",
    "__DL__ is a __ML algorithm that uses deep(more than one layer) neural networks to analyze data and provide output accordingly.__\n",
    "\n",
    "__DS__ has some __overlap with Artificial Intelligence, Machine Learning, and very few parts of Deep Learning.__"
   ]
  },
  {
   "cell_type": "markdown",
   "id": "980c2ce1",
   "metadata": {},
   "source": [
    "# Q5- What are the main differences between supervised, unsupervised, and semi-supervised learning?"
   ]
  },
  {
   "cell_type": "markdown",
   "id": "40a68f32",
   "metadata": {},
   "source": [
    "__Supervised learning__ is a problem with __labeled data__, expecting to develop predictive capability. \n",
    "\n",
    "__Unsupervised learning__ is discovering process, diving into __unlabeled data__ to capture hidden information.\n",
    "\n",
    "__Semi-supervised learning__ is a __blend of supervised and unsupervised learning__.\n"
   ]
  },
  {
   "cell_type": "markdown",
   "id": "4da07b27",
   "metadata": {},
   "source": [
    "# Q6- What is train, test and validation split? Explain the importance of each term."
   ]
  },
  {
   "cell_type": "markdown",
   "id": "1183505d",
   "metadata": {},
   "source": [
    "__Training data__ is the set of the data on which the __actual training takes place__. \n",
    "\n",
    "__Validation split__ helps to __improve the model performance__ by __fine-tuning__ the model after each epoch. \n",
    "\n",
    "__The test set__ informs us about the __final accuracy of the model after completing the training phase__."
   ]
  },
  {
   "cell_type": "markdown",
   "id": "e47cb4b2",
   "metadata": {},
   "source": [
    "# Q7- How can unsupervised learning be used in anomaly detection?"
   ]
  },
  {
   "cell_type": "markdown",
   "id": "d884aa12",
   "metadata": {},
   "source": [
    "__Unsupervised machine learning__ is one of the main branches of machine learning and it has a multitude of applications. \n",
    "\n",
    "__anomaly detection__: \n",
    "\n",
    "        identifying normal patterns within a data sample and then detecting outliers based on the natural characteristics of the data set itself.\n"
   ]
  },
  {
   "cell_type": "markdown",
   "id": "03b1787e",
   "metadata": {},
   "source": [
    "# Q8- List down some commonly used supervised learning algorithms and unsupervised learning algorithms."
   ]
  },
  {
   "cell_type": "markdown",
   "id": "c59478fe",
   "metadata": {},
   "source": [
    "The most commonly used Supervised Learning algorithms are: \n",
    "\n",
    "    1.decision tree, \n",
    "    2.logistic regression, \n",
    "    3.linear regression, \n",
    "    4.support vector machine. \n",
    "\n",
    "The most commonly used Unsupervised Learning algorithms are: \n",
    "\n",
    "    1.k-means clustering, \n",
    "    2.hierarchical clustering, \n",
    "    3.apriori algorithm.\n"
   ]
  },
  {
   "cell_type": "code",
   "execution_count": null,
   "id": "a7a81511",
   "metadata": {},
   "outputs": [],
   "source": []
  }
 ],
 "metadata": {
  "kernelspec": {
   "display_name": "Python 3 (ipykernel)",
   "language": "python",
   "name": "python3"
  },
  "language_info": {
   "codemirror_mode": {
    "name": "ipython",
    "version": 3
   },
   "file_extension": ".py",
   "mimetype": "text/x-python",
   "name": "python",
   "nbconvert_exporter": "python",
   "pygments_lexer": "ipython3",
   "version": "3.10.9"
  }
 },
 "nbformat": 4,
 "nbformat_minor": 5
}
