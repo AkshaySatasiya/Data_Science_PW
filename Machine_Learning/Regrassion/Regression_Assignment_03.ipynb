{
 "cells": [
  {
   "cell_type": "markdown",
   "id": "448662e9",
   "metadata": {},
   "source": [
    "# Q1. What is Ridge Regression, and how does it differ from ordinary least squares regression?"
   ]
  },
  {
   "cell_type": "markdown",
   "id": "67c50b80",
   "metadata": {},
   "source": [
    "Ridge regression is a model tuning method that is used to analyse any data that suffers from **multicollinearity**. \n",
    "\n",
    "This method performs **L2 regularization**. \n",
    "\n",
    "When the issue of multicollinearity occurs, **least-squares are unbiased, and variances are large, this results in predicted values being far away from the actual values.**"
   ]
  },
  {
   "cell_type": "markdown",
   "id": "7a36c4cf",
   "metadata": {},
   "source": [
    "# Q2. What are the assumptions of Ridge Regression?"
   ]
  },
  {
   "cell_type": "markdown",
   "id": "b315bcd3",
   "metadata": {},
   "source": [
    "The assumptions of ridge regression are the same as that of linear regression: \n",
    "* **linearity**\n",
    "* **constant variance**\n",
    "* **independence.**"
   ]
  },
  {
   "cell_type": "markdown",
   "id": "09c6eff8",
   "metadata": {},
   "source": [
    "# Q3. How do you select the value of the tuning parameter (lambda) in Ridge Regression?"
   ]
  },
  {
   "cell_type": "markdown",
   "id": "ee13818a",
   "metadata": {},
   "source": [
    "To select the value of the tuning parameter (lambda) in Ridge Regression:\n",
    "\n",
    "* Use **grid search** or **cross-validation** to evaluate the model's performance for different lambda values.\n",
    "* Look for the lambda value that gives the best performance on your chosen evaluation metric (e.g., lowest cross-validation error).\n",
    "* Consider using a library that calculates the **regularization path** for insights into how coefficients change.\n",
    "* Explore **analytical solutions** if available based on the input matrix's properties.\n",
    "* Utilize **information criteria** for a balance between model complexity and fit.\n",
    "* Leverage **domain knowledge** to narrow down the search space if applicable."
   ]
  },
  {
   "cell_type": "markdown",
   "id": "0366ae48",
   "metadata": {},
   "source": [
    "# Q4. Can Ridge Regression be used for feature selection? If yes, how?"
   ]
  },
  {
   "cell_type": "markdown",
   "id": "8f1a1255",
   "metadata": {},
   "source": [
    "**Ridge Regression** can indirectly assist in feature selection by **shrinking the coefficients of less important features towards zero.**\n",
    "\n",
    "However, it doesn't perform strict feature selection as **Lasso Regression does**. \n",
    "\n",
    "The following points highlight how Ridge Regression can aid in feature selection:\n",
    "\n",
    "* **Coefficient Magnitudes:** Ridge Regression reduces the influence of less important features by shrinking their coefficients towards zero.\n",
    "\n",
    "* **Feature Ranking:** Features with larger post-regularization coefficients are relatively more important.\n",
    "\n",
    "* **Comparative Analysis:** Varying the lambda parameter can provide insights into the changing importance of features.\n",
    "\n",
    "* **Elastic Net:** Consider Elastic Net Regression for combined Ridge and Lasso strengths if strict feature selection is desired.\n",
    "\n",
    "* **Post-Model Analysis:** Evaluate feature importance by assessing model performance with and without specific features."
   ]
  },
  {
   "cell_type": "markdown",
   "id": "0e7857ec",
   "metadata": {},
   "source": [
    "# Q5. How does the Ridge Regression model perform in the presence of multicollinearity?"
   ]
  },
  {
   "cell_type": "markdown",
   "id": "d76e803e",
   "metadata": {},
   "source": [
    "Multicollinearity happens when predictor variables exhibit a correlation among themselves. **Ridge regression aims at reducing the standard error by adding some bias in the estimates of the regression.**\n",
    "\n",
    "The reduction of the standard error in regression estimates significantly **increases the reliability of the estimates.**"
   ]
  },
  {
   "cell_type": "markdown",
   "id": "c3d659ae",
   "metadata": {},
   "source": [
    "# Q6. Can Ridge Regression handle both categorical and continuous independent variables?"
   ]
  },
  {
   "cell_type": "markdown",
   "id": "70833597",
   "metadata": {},
   "source": [
    "**Yes**, Ridge Regression can handle both categorical and continuous independent variables. "
   ]
  },
  {
   "cell_type": "markdown",
   "id": "d95451b4",
   "metadata": {},
   "source": [
    "# Q7. How do you interpret the coefficients of Ridge Regression?"
   ]
  },
  {
   "cell_type": "markdown",
   "id": "aaafee6e",
   "metadata": {},
   "source": [
    "Interpreting Ridge Regression coefficients involves considering their:\n",
    "\n",
    "* **Magnitude:** Larger coefficients indicate stronger impacts, but Ridge shrinks them towards zero.\n",
    "* **Sign:** Positive or negative sign implies direction of relationship with the target.\n",
    "* **Comparative Analysis:** Compare coefficient magnitudes for relative importance.\n",
    "* **Relative Importance:** Coefficients closer to zero are relatively less impactful.\n",
    "* **Directionality:** Relationships between predictors and target remain consistent.\n",
    "* **Regularization Influence:** Ridge redistributes contribution of correlated features.\n",
    "* **Scaling:** Properly scale features before applying Ridge Regression for fair comparison."
   ]
  },
  {
   "cell_type": "markdown",
   "id": "d7d1f992",
   "metadata": {},
   "source": [
    "# Q8. Can Ridge Regression be used for time-series data analysis? If yes, how?"
   ]
  },
  {
   "cell_type": "markdown",
   "id": "f7231392",
   "metadata": {},
   "source": [
    "**The ridge regression technique can be used to predict time-series.**\n",
    "\n",
    "Ridge regression (RR) can also solve the multicollinearity problem that exists in linear regression."
   ]
  },
  {
   "cell_type": "code",
   "execution_count": null,
   "id": "94b97ba2",
   "metadata": {},
   "outputs": [],
   "source": []
  }
 ],
 "metadata": {
  "kernelspec": {
   "display_name": "Python 3 (ipykernel)",
   "language": "python",
   "name": "python3"
  },
  "language_info": {
   "codemirror_mode": {
    "name": "ipython",
    "version": 3
   },
   "file_extension": ".py",
   "mimetype": "text/x-python",
   "name": "python",
   "nbconvert_exporter": "python",
   "pygments_lexer": "ipython3",
   "version": "3.10.9"
  }
 },
 "nbformat": 4,
 "nbformat_minor": 5
}
