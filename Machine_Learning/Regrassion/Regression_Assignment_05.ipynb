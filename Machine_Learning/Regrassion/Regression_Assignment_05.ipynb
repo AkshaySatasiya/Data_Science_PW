{
 "cells": [
  {
   "cell_type": "markdown",
   "id": "405eac64",
   "metadata": {},
   "source": [
    "# Q1. What is Elastic Net Regression and how does it differ from other regression techniques?"
   ]
  },
  {
   "cell_type": "markdown",
   "id": "a16cf612",
   "metadata": {},
   "source": [
    "**ElasticNet** is a **hybrid of Lasso and Ridge**, where both the absolute value penalization and squared penalization are included, being regulated with another coefficient l1_ratio.\n",
    "\n",
    "The main difference between elastic net and lasso or ridge is that **elastic net has an additional parameter called lambda**, which controls the **balance between the l1-norm and the l2-norm penalties.** When lambda is zero, elastic net is equivalent to lasso."
   ]
  },
  {
   "cell_type": "markdown",
   "id": "5424eee3",
   "metadata": {},
   "source": [
    "# Q2. How do you choose the optimal values of the regularization parameters for Elastic Net Regression?"
   ]
  },
  {
   "cell_type": "markdown",
   "id": "ad4d8a42",
   "metadata": {},
   "source": [
    "* **Larger values of alpha imply stronger regularization (less-overfitting, may be underfitting!)**. \n",
    "\n",
    "* **Smaller values imply weak regularization (overfitting).**\n",
    "\n",
    "We want to build a model that neither overfits nor underfit the data. So, we need to **choose an optimal value for alpha.**"
   ]
  },
  {
   "cell_type": "markdown",
   "id": "335238e6",
   "metadata": {},
   "source": [
    "# Q3. What are the advantages and disadvantages of Elastic Net Regression?"
   ]
  },
  {
   "cell_type": "markdown",
   "id": "aa2fa068",
   "metadata": {},
   "source": [
    "**Advantages:**\n",
    "\n",
    "* Handles multicollinearity well.\n",
    "* Offers automatic feature selection.\n",
    "* Balances L1 and L2 regularization.\n",
    "* Suitable for high-dimensional data.\n",
    "* Provides flexibility in regularization strength.\n",
    "\n",
    "**Disadvantages:**\n",
    "\n",
    "* Complex parameter tuning.\n",
    "* Computationally intensive.\n",
    "* Reduced interpretability.\n",
    "* Might not work well with small datasets.\n",
    "* Limited to linear relationships."
   ]
  },
  {
   "cell_type": "markdown",
   "id": "3c1ba3fb",
   "metadata": {},
   "source": [
    "# Q4. What are some common use cases for Elastic Net Regression?"
   ]
  },
  {
   "cell_type": "markdown",
   "id": "7cba154b",
   "metadata": {},
   "source": [
    "here's a concise list of common use cases for Elastic Net Regression:\n",
    "\n",
    "* **Genomics and Bioinformatics:** Analyzing genetic data to identify markers related to traits or diseases.\n",
    "\n",
    "* **Financial Modeling:** Predicting financial outcomes considering correlated economic factors.\n",
    "\n",
    "* **Marketing Analysis:** Selecting influential factors for consumer behavior prediction.\n",
    "\n",
    "* **Image Analysis:** Feature selection for tasks like object recognition.\n",
    "\n",
    "* **Text Analysis:** Handling high-dimensional features in tasks like sentiment analysis.\n",
    "\n",
    "* **Healthcare and Medical Research:** Uncovering factors impacting health outcomes.\n",
    "\n",
    "* **Environmental Studies:** Analyzing ecological data to understand ecosystem factors.\n",
    "\n",
    "* **Economic Modeling:** Considering interdependencies among economic indicators.\n",
    "\n",
    "* **Industrial Process Optimization:** Identifying key parameters for product quality.\n",
    "\n",
    "* **Social Sciences:** Understanding impactful factors in social phenomena."
   ]
  },
  {
   "cell_type": "markdown",
   "id": "363871a7",
   "metadata": {},
   "source": [
    "# Q5. How do you interpret the coefficients in Elastic Net Regression?"
   ]
  },
  {
   "cell_type": "markdown",
   "id": "08a87df9",
   "metadata": {},
   "source": [
    "The coefficients of elastic net regression represent the **linear relationship between the features and the target variable**, adjusted by the regularization terms. \n",
    "* The **larger the absolute value of a coefficient, the stronger the effect of the corresponding feature on the target variable.**\n",
    "* A **positive coefficient** indicates that as the value of the **independent variable increases**, the **mean of the dependent variable also tends to increase.** \n",
    "* A **negative coefficient** suggests that as the **independent variable increases**, the **dependent variable tends to decrease.**"
   ]
  },
  {
   "cell_type": "markdown",
   "id": "5749a74b",
   "metadata": {},
   "source": [
    "# Q6. How do you handle missing values when using Elastic Net Regression?"
   ]
  },
  {
   "cell_type": "markdown",
   "id": "17dd2dfe",
   "metadata": {},
   "source": [
    "Handling missing values when using Elastic Net Regression:\n",
    "\n",
    "* **Identify Missing Values:** Locate features with missing data.\n",
    "* **Imputation:** Fill missing values using mean/median, mode, predictive imputation, or domain-specific methods.\n",
    "* **Indicator Variables:** Create indicators to capture missing value presence.\n",
    "* **Remove Data:** Optionally, remove rows or features with extensive missing data.\n",
    "* **Consider Scaling:** Impute before scaling data to avoid interference.\n",
    "* **Evaluate Impact:** Assess how imputation affects model performance."
   ]
  },
  {
   "cell_type": "markdown",
   "id": "1cdeb5aa",
   "metadata": {},
   "source": [
    "# Q7. How do you use Elastic Net Regression for feature selection?"
   ]
  },
  {
   "cell_type": "markdown",
   "id": "cd26ecb2",
   "metadata": {},
   "source": [
    "The coefficients that are zero indicate that the corresponding features are not relevant for the model, and they are eliminated by the lasso penalty. Therefore, **you can use the coefficients of elastic net regression to rank the features by their importance and select the ones that have non-zero coefficients.**"
   ]
  },
  {
   "cell_type": "markdown",
   "id": "012d0fa9",
   "metadata": {},
   "source": [
    "# Q8. How do you pickle and unpickle a trained Elastic Net Regression model in Python?"
   ]
  },
  {
   "cell_type": "markdown",
   "id": "4a3486f3",
   "metadata": {},
   "source": [
    "* Using **pickle** , simply save your model on disc with **dump()** function \n",
    "* de-pickle it into your python code with **load()** function. \n",
    "\n",
    "Use **open() function to create and/or read from a .pkl file** and make sure you open the file in the **binary format** by **wb** for write and **rb** for read mode."
   ]
  },
  {
   "cell_type": "markdown",
   "id": "b230ff3a",
   "metadata": {},
   "source": [
    "# Q9. What is the purpose of pickling a model in machine learning?"
   ]
  },
  {
   "cell_type": "markdown",
   "id": "1355bc12",
   "metadata": {},
   "source": [
    "Pickle is a useful Python tool that **allows you to save your ML models, to minimise lengthy re-training and allow you to share, commit, and re-load pre-trained machine learning models.** \n",
    "\n",
    "* Most data scientists working in ML will use Pickle or Joblib to **save their ML model for future use.**"
   ]
  },
  {
   "cell_type": "code",
   "execution_count": null,
   "id": "5ec6ff63",
   "metadata": {},
   "outputs": [],
   "source": []
  }
 ],
 "metadata": {
  "kernelspec": {
   "display_name": "Python 3 (ipykernel)",
   "language": "python",
   "name": "python3"
  },
  "language_info": {
   "codemirror_mode": {
    "name": "ipython",
    "version": 3
   },
   "file_extension": ".py",
   "mimetype": "text/x-python",
   "name": "python",
   "nbconvert_exporter": "python",
   "pygments_lexer": "ipython3",
   "version": "3.10.9"
  }
 },
 "nbformat": 4,
 "nbformat_minor": 5
}
