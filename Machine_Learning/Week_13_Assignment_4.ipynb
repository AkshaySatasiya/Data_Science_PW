{
 "cells": [
  {
   "cell_type": "markdown",
   "id": "00403f2a",
   "metadata": {},
   "source": [
    "# Q1. What is Min-Max scaling, and how is it used in data preprocessing? Provide an example to illustrate its application."
   ]
  },
  {
   "cell_type": "markdown",
   "id": "f96369b2",
   "metadata": {},
   "source": [
    "__Min-Max scaling__ is a way to change the numbers in a dataset so that they all fit within the same range, usually between __0 and 1__. This can be really useful when you're dealing with different kinds of data that have different sizes or ranges. By scaling them down to the same range, you're making sure that no one piece of data overwhelms the others just because it's bigger.\n",
    "\n",
    "__Example:__\n",
    "\n",
    "Imagine you have a group of people's ages and their incomes. Some ages might be between __18 and 65__, while incomes vary between __₹20,000 and ₹100,000.__ \n",
    "\n",
    "Now, these numbers are quite different in size, and some machine learning algorithms might get confused by that. Min-Max scaling steps in to help.\n",
    "\n",
    "You take each person's age and income and transform them using a formula. This formula makes sure that __the smallest age becomes 0 and the biggest age becomes 1, and similarly for incomes.__ So, someone who's 35 years old might get transformed to around 0.36, and someone with an income of $60,000 might become 0.5 after scaling.\n",
    "\n",
    "By doing this scaling, you're putting everyone's age and income on an equal footing, making it easier for machine learning algorithms to understand and work with the data. This way, no feature (like age or income) will have an unfair advantage just because its numbers are bigger."
   ]
  },
  {
   "cell_type": "markdown",
   "id": "ea3d8cc7",
   "metadata": {},
   "source": [
    "# Q2. What is the Unit Vector technique in feature scaling, and how does it differ from Min-Max scaling? Provide an example to illustrate its application."
   ]
  },
  {
   "cell_type": "markdown",
   "id": "ab270acd",
   "metadata": {},
   "source": [
    "Imagine you have a bunch of __vectors__, each representing something with multiple aspects. \n",
    "\n",
    "For instance, let's think about people's heights and weights. These can be thought of as vectors with two values: height and weight.\n",
    "\n",
    "Now, the Unit Vector technique is a way to adjust these vectors so that they all have the same \"length\" but still point in the same direction. Think of these vectors like arrows. Normally, these arrows could have different lengths and directions. But with the Unit Vector technique, we want to make them all the same length—like making all the arrows have the same size—but they'll still point in the same direction.\n",
    "\n",
    "For instance, if you have a person who is 70 inches tall and weighs 160 pounds, you could think of this as an arrow pointing in a certain direction. The Unit Vector technique would make this arrow shorter, but it would still point in the same direction.\n",
    "\n",
    "So, this technique helps to make sure that even though we're changing the lengths of these arrows, they're still telling us the same kind of information about the relationship between height and weight.\n",
    "\n",
    "In contrast, __Min-Max scaling__ squeezes the values in a range, usually between 0 and 1. It doesn't care about the direction of the vectors—just about making sure they all fit within the same range. So, while Unit Vector focuses on direction and equalizing the \"length\" of vectors, Min-Max scaling focuses on making values fit into a specific range."
   ]
  },
  {
   "cell_type": "markdown",
   "id": "6cad278c",
   "metadata": {},
   "source": [
    "# Q3. What is PCA (Principle Component Analysis), and how is it used in dimensionality reduction? Provide an example to illustrate its application."
   ]
  },
  {
   "cell_type": "markdown",
   "id": "b10890fc",
   "metadata": {},
   "source": [
    "__Principal Component Analysis (PCA)__ is a dimensionality reduction technique __used to simplify complex datasets by transforming them into a lower-dimensional space__ while retaining as much of the original variability as possible.\n",
    "\n",
    "It achieves this by identifying the principal components, which are new orthogonal (uncorrelated) axes in the data space that capture the most significant patterns of variation. These principal components are ordered in terms of the amount of variance they explain, with the first component explaining the most variance, the second explaining the second most, and so on.\n",
    "\n",
    "__application:__\n",
    "\n",
    "Suppose you have a dataset of people's heights, weights, and ages. You want to use PCA to reduce the dimensionality of this dataset while retaining the most important information.\n",
    "\n",
    "__Standardize Data:__ Standardize the heights, weights, and ages so that they all have a mean of 0 and a standard deviation of 1.\n",
    "\n",
    "__Compute Covariance Matrix:__ Calculate the covariance matrix of the standardized data. This matrix shows how the three features are related to each other.\n",
    "\n",
    "__Calculate Eigenvectors and Eigenvalues:__ Compute the eigenvectors and eigenvalues of the covariance matrix."
   ]
  },
  {
   "cell_type": "markdown",
   "id": "8b95e0a5",
   "metadata": {},
   "source": [
    "# Q4. What is the relationship between PCA and Feature Extraction, and how can PCA be used for Feature Extraction? Provide an example to illustrate this concept."
   ]
  },
  {
   "cell_type": "markdown",
   "id": "0c16abf0",
   "metadata": {},
   "source": [
    "__PCA (Principal Component Analysis) and Feature Extraction are closely related concepts.__ In fact, PCA is a specific technique used for feature extraction, which is the process of transforming the original features of a dataset into a new set of features that are more informative and relevant for a given task. \n",
    "\n",
    "PCA achieves this by __identifying the most important patterns of variation in the data and representing them in a lower-dimensional space.__\n",
    "\n",
    "\n",
    "Here's how __PCA__ can be used for __feature extraction:__\n",
    "\n",
    "__High-Dimensional Data:__ When you have a dataset with a large number of features, it can become challenging to work with, visualize, or analyze. This is known as the curse of dimensionality. Many of these features might be redundant or less informative.\n",
    "\n",
    "__PCA as Feature Extraction:__ PCA helps in finding a new set of features (principal components) that are linear combinations of the original features. These new features are selected based on how much variance they explain in the data. By doing this, PCA captures the essential patterns of variation in the data with fewer features.\n",
    "\n",
    "__Reduced-Dimensional Data:__ The new features, or principal components, are less in number than the original features. They are uncorrelated and ordered by the amount of variance they explain. This allows for dimensionality reduction while retaining as much important information as possible.\n",
    "\n",
    "__Use in Analysis or Modeling:__ The reduced-dimensional data can be used for various purposes such as visualization, clustering, classification, or regression. It helps improve the efficiency of algorithms and can mitigate issues caused by the curse of dimensionality.\n",
    "\n",
    "\n",
    "Here's an example to illustrate this concept:\n",
    "\n",
    "Imagine you have a dataset with various features related to different aspects of cars, such as horsepower, engine displacement, fuel efficiency, and more. This dataset has a high dimension because each car is described by many features. However, not all of these features might be equally important."
   ]
  },
  {
   "cell_type": "markdown",
   "id": "fb5ab661",
   "metadata": {},
   "source": [
    "# Q5. You are working on a project to build a recommendation system for a food delivery service. The dataset contains features such as price, rating, and delivery time. Explain how you would use Min-Max scaling to preprocess the data."
   ]
  },
  {
   "cell_type": "markdown",
   "id": "4adb5a32",
   "metadata": {},
   "source": [
    "__1. Understand the Data:__\n",
    "\n",
    "First, you need to have a clear understanding of the dataset and the features it contains. In your case, you mentioned that the dataset includes features like price, rating, and delivery time.\n",
    "\n",
    "__2. Select Features:__\n",
    "\n",
    "Decide which features you want to include in your recommendation system. Since you mentioned price, rating, and delivery time, let's focus on those three features.\n",
    "\n",
    "__3. Apply Min-Max Scaling:__\n",
    "\n",
    "Min-Max scaling involves transforming the values of a feature to a specific range, typically between 0 and 1. This ensures that all features have the same scale and prevents any particular feature from dominating others due to its larger values.\n",
    "\n",
    "__4. Use Scaled Features:__\n",
    "\n",
    "After applying Min-Max scaling to all the relevant features in your dataset, you would replace the original feature values with the scaled values. This scaled data can then be used as input for building your recommendation system.\n",
    "\n",
    "By using Min-Max scaling, __you ensure that the different features (price, rating, delivery time) are all within the same range (usually 0 to 1), making them comparable and preventing any single feature from having an undue influence on the recommendation algorithm.__"
   ]
  },
  {
   "cell_type": "markdown",
   "id": "9f70c272",
   "metadata": {},
   "source": [
    "# Q6. You are working on a project to build a model to predict stock prices. The dataset contains many features, such as company financial data and market trends. Explain how you would use PCA to reduce the dimensionality of the dataset."
   ]
  },
  {
   "cell_type": "markdown",
   "id": "65d4a840",
   "metadata": {},
   "source": [
    "PCA can help with this. It's like finding the most important parts of all that information and ignoring the less important stuff. \n",
    "\n",
    "Here's how you'd do it:\n",
    "\n",
    "__1. Getting Ready:__ First, you need to make sure all the data is in a similar format and scale. This helps PCA work better.\n",
    "\n",
    "__2. Finding Patterns:__ PCA looks at all the details and tries to figure out which ones are most related to each other. It finds patterns that help explain why stock prices change.\n",
    "\n",
    "__3. Picking the Main Ideas:__ PCA gives you a list of the most important patterns, called \"principal components.\" The first one is the biggest idea, the second is the next biggest, and so on.\n",
    "\n",
    "__4. Simplifying:__ Instead of using all the details, you can use just the main ideas from the principal components. This makes your job easier and the information easier to understand.\n",
    "\n",
    "__5. Making Predictions:__ Now, with these simplified main ideas, you can use them to predict how stock prices might change. It's like using a few key points to guess what's going to happen.\n",
    "\n",
    "By doing all this, you're using __PCA to help you understand and predict stock prices without drowning in too much information__. It's like finding the most important puzzle pieces and using them to see the bigger picture."
   ]
  },
  {
   "cell_type": "markdown",
   "id": "f023f248",
   "metadata": {},
   "source": [
    "# Q7. For a dataset containing the following values: [1, 5, 10, 15, 20], perform Min-Max scaling to transform the values to a range of -1 to 1."
   ]
  },
  {
   "cell_type": "code",
   "execution_count": 1,
   "id": "d3bfaa3a",
   "metadata": {},
   "outputs": [],
   "source": [
    "import pandas as pd\n",
    "from sklearn.preprocessing import MinMaxScaler"
   ]
  },
  {
   "cell_type": "code",
   "execution_count": 13,
   "id": "45bfb460",
   "metadata": {},
   "outputs": [],
   "source": [
    "x  = [1,5,10,15,20]\n",
    "\n",
    "df = pd.DataFrame(x,columns=['x'])"
   ]
  },
  {
   "cell_type": "code",
   "execution_count": 14,
   "id": "2ef45b27",
   "metadata": {},
   "outputs": [
    {
     "data": {
      "text/html": [
       "<div>\n",
       "<style scoped>\n",
       "    .dataframe tbody tr th:only-of-type {\n",
       "        vertical-align: middle;\n",
       "    }\n",
       "\n",
       "    .dataframe tbody tr th {\n",
       "        vertical-align: top;\n",
       "    }\n",
       "\n",
       "    .dataframe thead th {\n",
       "        text-align: right;\n",
       "    }\n",
       "</style>\n",
       "<table border=\"1\" class=\"dataframe\">\n",
       "  <thead>\n",
       "    <tr style=\"text-align: right;\">\n",
       "      <th></th>\n",
       "      <th>x</th>\n",
       "    </tr>\n",
       "  </thead>\n",
       "  <tbody>\n",
       "    <tr>\n",
       "      <th>0</th>\n",
       "      <td>1</td>\n",
       "    </tr>\n",
       "    <tr>\n",
       "      <th>1</th>\n",
       "      <td>5</td>\n",
       "    </tr>\n",
       "    <tr>\n",
       "      <th>2</th>\n",
       "      <td>10</td>\n",
       "    </tr>\n",
       "    <tr>\n",
       "      <th>3</th>\n",
       "      <td>15</td>\n",
       "    </tr>\n",
       "    <tr>\n",
       "      <th>4</th>\n",
       "      <td>20</td>\n",
       "    </tr>\n",
       "  </tbody>\n",
       "</table>\n",
       "</div>"
      ],
      "text/plain": [
       "    x\n",
       "0   1\n",
       "1   5\n",
       "2  10\n",
       "3  15\n",
       "4  20"
      ]
     },
     "execution_count": 14,
     "metadata": {},
     "output_type": "execute_result"
    }
   ],
   "source": [
    "df"
   ]
  },
  {
   "cell_type": "code",
   "execution_count": 15,
   "id": "8ffa7dce",
   "metadata": {},
   "outputs": [],
   "source": [
    "min_max = MinMaxScaler()"
   ]
  },
  {
   "cell_type": "code",
   "execution_count": 16,
   "id": "5b37ef30",
   "metadata": {},
   "outputs": [
    {
     "data": {
      "text/html": [
       "<style>#sk-container-id-2 {color: black;background-color: white;}#sk-container-id-2 pre{padding: 0;}#sk-container-id-2 div.sk-toggleable {background-color: white;}#sk-container-id-2 label.sk-toggleable__label {cursor: pointer;display: block;width: 100%;margin-bottom: 0;padding: 0.3em;box-sizing: border-box;text-align: center;}#sk-container-id-2 label.sk-toggleable__label-arrow:before {content: \"▸\";float: left;margin-right: 0.25em;color: #696969;}#sk-container-id-2 label.sk-toggleable__label-arrow:hover:before {color: black;}#sk-container-id-2 div.sk-estimator:hover label.sk-toggleable__label-arrow:before {color: black;}#sk-container-id-2 div.sk-toggleable__content {max-height: 0;max-width: 0;overflow: hidden;text-align: left;background-color: #f0f8ff;}#sk-container-id-2 div.sk-toggleable__content pre {margin: 0.2em;color: black;border-radius: 0.25em;background-color: #f0f8ff;}#sk-container-id-2 input.sk-toggleable__control:checked~div.sk-toggleable__content {max-height: 200px;max-width: 100%;overflow: auto;}#sk-container-id-2 input.sk-toggleable__control:checked~label.sk-toggleable__label-arrow:before {content: \"▾\";}#sk-container-id-2 div.sk-estimator input.sk-toggleable__control:checked~label.sk-toggleable__label {background-color: #d4ebff;}#sk-container-id-2 div.sk-label input.sk-toggleable__control:checked~label.sk-toggleable__label {background-color: #d4ebff;}#sk-container-id-2 input.sk-hidden--visually {border: 0;clip: rect(1px 1px 1px 1px);clip: rect(1px, 1px, 1px, 1px);height: 1px;margin: -1px;overflow: hidden;padding: 0;position: absolute;width: 1px;}#sk-container-id-2 div.sk-estimator {font-family: monospace;background-color: #f0f8ff;border: 1px dotted black;border-radius: 0.25em;box-sizing: border-box;margin-bottom: 0.5em;}#sk-container-id-2 div.sk-estimator:hover {background-color: #d4ebff;}#sk-container-id-2 div.sk-parallel-item::after {content: \"\";width: 100%;border-bottom: 1px solid gray;flex-grow: 1;}#sk-container-id-2 div.sk-label:hover label.sk-toggleable__label {background-color: #d4ebff;}#sk-container-id-2 div.sk-serial::before {content: \"\";position: absolute;border-left: 1px solid gray;box-sizing: border-box;top: 0;bottom: 0;left: 50%;z-index: 0;}#sk-container-id-2 div.sk-serial {display: flex;flex-direction: column;align-items: center;background-color: white;padding-right: 0.2em;padding-left: 0.2em;position: relative;}#sk-container-id-2 div.sk-item {position: relative;z-index: 1;}#sk-container-id-2 div.sk-parallel {display: flex;align-items: stretch;justify-content: center;background-color: white;position: relative;}#sk-container-id-2 div.sk-item::before, #sk-container-id-2 div.sk-parallel-item::before {content: \"\";position: absolute;border-left: 1px solid gray;box-sizing: border-box;top: 0;bottom: 0;left: 50%;z-index: -1;}#sk-container-id-2 div.sk-parallel-item {display: flex;flex-direction: column;z-index: 1;position: relative;background-color: white;}#sk-container-id-2 div.sk-parallel-item:first-child::after {align-self: flex-end;width: 50%;}#sk-container-id-2 div.sk-parallel-item:last-child::after {align-self: flex-start;width: 50%;}#sk-container-id-2 div.sk-parallel-item:only-child::after {width: 0;}#sk-container-id-2 div.sk-dashed-wrapped {border: 1px dashed gray;margin: 0 0.4em 0.5em 0.4em;box-sizing: border-box;padding-bottom: 0.4em;background-color: white;}#sk-container-id-2 div.sk-label label {font-family: monospace;font-weight: bold;display: inline-block;line-height: 1.2em;}#sk-container-id-2 div.sk-label-container {text-align: center;}#sk-container-id-2 div.sk-container {/* jupyter's `normalize.less` sets `[hidden] { display: none; }` but bootstrap.min.css set `[hidden] { display: none !important; }` so we also need the `!important` here to be able to override the default hidden behavior on the sphinx rendered scikit-learn.org. See: https://github.com/scikit-learn/scikit-learn/issues/21755 */display: inline-block !important;position: relative;}#sk-container-id-2 div.sk-text-repr-fallback {display: none;}</style><div id=\"sk-container-id-2\" class=\"sk-top-container\"><div class=\"sk-text-repr-fallback\"><pre>MinMaxScaler()</pre><b>In a Jupyter environment, please rerun this cell to show the HTML representation or trust the notebook. <br />On GitHub, the HTML representation is unable to render, please try loading this page with nbviewer.org.</b></div><div class=\"sk-container\" hidden><div class=\"sk-item\"><div class=\"sk-estimator sk-toggleable\"><input class=\"sk-toggleable__control sk-hidden--visually\" id=\"sk-estimator-id-2\" type=\"checkbox\" checked><label for=\"sk-estimator-id-2\" class=\"sk-toggleable__label sk-toggleable__label-arrow\">MinMaxScaler</label><div class=\"sk-toggleable__content\"><pre>MinMaxScaler()</pre></div></div></div></div></div>"
      ],
      "text/plain": [
       "MinMaxScaler()"
      ]
     },
     "execution_count": 16,
     "metadata": {},
     "output_type": "execute_result"
    }
   ],
   "source": [
    "min_max.fit(df[['x']])"
   ]
  },
  {
   "cell_type": "code",
   "execution_count": 17,
   "id": "a74bf015",
   "metadata": {},
   "outputs": [
    {
     "data": {
      "text/plain": [
       "array([[0.        ],\n",
       "       [0.21052632],\n",
       "       [0.47368421],\n",
       "       [0.73684211],\n",
       "       [1.        ]])"
      ]
     },
     "execution_count": 17,
     "metadata": {},
     "output_type": "execute_result"
    }
   ],
   "source": [
    "min_max.transform(df[['x']])"
   ]
  },
  {
   "cell_type": "code",
   "execution_count": 18,
   "id": "ae0dc6ca",
   "metadata": {},
   "outputs": [],
   "source": [
    "df['x_transformed'] = pd.DataFrame(min_max.transform(df[['x']]))"
   ]
  },
  {
   "cell_type": "code",
   "execution_count": 19,
   "id": "1b12ddae",
   "metadata": {},
   "outputs": [
    {
     "data": {
      "text/html": [
       "<div>\n",
       "<style scoped>\n",
       "    .dataframe tbody tr th:only-of-type {\n",
       "        vertical-align: middle;\n",
       "    }\n",
       "\n",
       "    .dataframe tbody tr th {\n",
       "        vertical-align: top;\n",
       "    }\n",
       "\n",
       "    .dataframe thead th {\n",
       "        text-align: right;\n",
       "    }\n",
       "</style>\n",
       "<table border=\"1\" class=\"dataframe\">\n",
       "  <thead>\n",
       "    <tr style=\"text-align: right;\">\n",
       "      <th></th>\n",
       "      <th>x</th>\n",
       "      <th>x_transformed</th>\n",
       "    </tr>\n",
       "  </thead>\n",
       "  <tbody>\n",
       "    <tr>\n",
       "      <th>0</th>\n",
       "      <td>1</td>\n",
       "      <td>0.000000</td>\n",
       "    </tr>\n",
       "    <tr>\n",
       "      <th>1</th>\n",
       "      <td>5</td>\n",
       "      <td>0.210526</td>\n",
       "    </tr>\n",
       "    <tr>\n",
       "      <th>2</th>\n",
       "      <td>10</td>\n",
       "      <td>0.473684</td>\n",
       "    </tr>\n",
       "    <tr>\n",
       "      <th>3</th>\n",
       "      <td>15</td>\n",
       "      <td>0.736842</td>\n",
       "    </tr>\n",
       "    <tr>\n",
       "      <th>4</th>\n",
       "      <td>20</td>\n",
       "      <td>1.000000</td>\n",
       "    </tr>\n",
       "  </tbody>\n",
       "</table>\n",
       "</div>"
      ],
      "text/plain": [
       "    x  x_transformed\n",
       "0   1       0.000000\n",
       "1   5       0.210526\n",
       "2  10       0.473684\n",
       "3  15       0.736842\n",
       "4  20       1.000000"
      ]
     },
     "execution_count": 19,
     "metadata": {},
     "output_type": "execute_result"
    }
   ],
   "source": [
    "df"
   ]
  },
  {
   "cell_type": "markdown",
   "id": "540f37f6",
   "metadata": {},
   "source": [
    "# Q8. For a dataset containing the following features: [height, weight, age, gender, blood pressure], perform Feature Extraction using PCA. How many principal components would you choose to retain, and why?"
   ]
  },
  {
   "cell_type": "code",
   "execution_count": 21,
   "id": "f24e1ff3",
   "metadata": {},
   "outputs": [
    {
     "name": "stdout",
     "output_type": "stream",
     "text": [
      "Explained Variance: [9.68888593e-01 3.02995092e-02 8.11897458e-04 1.71540454e-33\n",
      " 2.22818101e-35]\n",
      "Cumulative Explained Variance: [0.96888859 0.9991881  1.         1.         1.        ]\n"
     ]
    },
    {
     "data": {
      "image/png": "[encoded data removed]",
      "text/plain": [
       "<Figure size 640x480 with 1 Axes>"
      ]
     },
     "metadata": {},
     "output_type": "display_data"
    }
   ],
   "source": [
    "import numpy as np\n",
    "from sklearn.preprocessing import StandardScaler\n",
    "from sklearn.decomposition import PCA\n",
    "\n",
    "# Hypothetical data for the example\n",
    "data = np.array([\n",
    "    [170, 65, 30, 1, 120],\n",
    "    [160, 50, 25, 0, 110],\n",
    "    [180, 75, 40, 1, 130],\n",
    "    [155, 45, 22, 0, 105],\n",
    "    [175, 70, 35, 1, 125]\n",
    "])\n",
    "\n",
    "# Standardize the data\n",
    "scaler = StandardScaler()\n",
    "scaled_data = scaler.fit_transform(data)\n",
    "\n",
    "# Apply PCA\n",
    "pca = PCA()\n",
    "pca.fit(scaled_data)\n",
    "\n",
    "# Calculate explained variance and cumulative explained variance\n",
    "explained_variance = pca.explained_variance_ratio_\n",
    "cumulative_explained_variance = np.cumsum(explained_variance)\n",
    "\n",
    "# Print explained variance and cumulative explained variance\n",
    "print(\"Explained Variance:\", explained_variance)\n",
    "print(\"Cumulative Explained Variance:\", cumulative_explained_variance)\n",
    "\n",
    "# Plot cumulative explained variance\n",
    "import matplotlib.pyplot as plt\n",
    "\n",
    "plt.plot(range(1, len(cumulative_explained_variance) + 1), cumulative_explained_variance, marker='o')\n",
    "plt.xlabel(\"Number of Principal Components\")\n",
    "plt.ylabel(\"Cumulative Explained Variance\")\n",
    "plt.title(\"PCA - Cumulative Explained Variance\")\n",
    "plt.show()\n"
   ]
  },
  {
   "cell_type": "code",
   "execution_count": null,
   "id": "b7681338",
   "metadata": {},
   "outputs": [],
   "source": []
  }
 ],
 "metadata": {
  "kernelspec": {
   "display_name": "Python 3 (ipykernel)",
   "language": "python",
   "name": "python3"
  },
  "language_info": {
   "codemirror_mode": {
    "name": "ipython",
    "version": 3
   },
   "file_extension": ".py",
   "mimetype": "text/x-python",
   "name": "python",
   "nbconvert_exporter": "python",
   "pygments_lexer": "ipython3",
   "version": "3.10.9"
  }
 },
 "nbformat": 4,
 "nbformat_minor": 5
}
