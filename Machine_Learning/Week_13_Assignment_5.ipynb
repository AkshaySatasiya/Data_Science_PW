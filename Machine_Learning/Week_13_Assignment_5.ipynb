{
 "cells": [
  {
   "cell_type": "markdown",
   "id": "2fd2cba5",
   "metadata": {},
   "source": [
    "# Q1. What is data encoding? How is it useful in data science?"
   ]
  },
  {
   "cell_type": "markdown",
   "id": "67cf3756",
   "metadata": {},
   "source": [
    "Encoding or continuization is the __transformation of categorical variables to binary or numerical counterparts__. An example is to treat __male or female for gender as 1 or 0.__\n",
    "\n",
    "Encoding categorical data is a process of converting categorical data into integer format so that the __data with converted categorical values can be provided to the different models.__ "
   ]
  },
  {
   "cell_type": "markdown",
   "id": "b470f7a3",
   "metadata": {},
   "source": [
    "# Q2. What is nominal encoding? Provide an example of how you would use it in a real-world scenario."
   ]
  },
  {
   "cell_type": "markdown",
   "id": "08308ca0",
   "metadata": {},
   "source": [
    "When we have a feature where __variables are just names and there is no order or rank to this variable's feature__ that is known as nominal encoading.\n",
    "\n",
    "example: __City of person lives in, Gender of person, Marital Status,__ etc… In the above example, We do not have any order or rank, or sequence."
   ]
  },
  {
   "cell_type": "markdown",
   "id": "8fc8c899",
   "metadata": {},
   "source": [
    "# Q3. In what situations is nominal encoding preferred over one-hot encoding? Provide a practical example."
   ]
  },
  {
   "cell_type": "markdown",
   "id": "793f200a",
   "metadata": {},
   "source": [
    "Nominal encoding, which is also known as label encoding, is preferred over one-hot encoding in situations where __the categorical variable has an inherent order or ranking among its categories.__ \n",
    "\n",
    "This means that the categories have a meaningful sequence or relationship that can be captured by assigning integer labels.\n",
    "\n",
    "__Nominal encoding is more suitable for ordinal categorical variables__, where the order matters, as opposed to nominal categorical variables, where there is no meaningful order.\n",
    "\n",
    "__Practical Example:__\n",
    "\n",
    "Consider a dataset of education levels where people's qualifications are categorized as \"High School,\" \"Associate's Degree,\" \"Bachelor's Degree,\" \"Master's Degree,\" and \"Doctorate.\" \n",
    "\n",
    "In this case, the education levels have a clear order from less advanced to more advanced qualifications. This situation is a good candidate for nominal encoding because the order of education levels carries meaningful information:"
   ]
  },
  {
   "cell_type": "markdown",
   "id": "16bb8d6c",
   "metadata": {},
   "source": [
    "# Q4. Suppose you have a dataset containing categorical data with 5 unique values. Which encoding technique would you use to transform this data into a format suitable for machine learning algorithms? Explain why you made this choice."
   ]
  },
  {
   "cell_type": "markdown",
   "id": "a9de6095",
   "metadata": {},
   "source": [
    "__One-Hot Encoding:__\n",
    "\n",
    "One-hot encoding is the preferred choice when dealing with __categorical data that does not have an inherent order or ranking among its categories__. \n",
    "\n",
    "If your dataset has 5 unique values and these values are not naturally ordered, then one-hot encoding would be a suitable option.\n",
    "\n",
    "One-hot encoding creates binary columns (dummy variables) for each category, and each column represents a category. A value of 1 indicates that the observation belongs to that category, while 0 indicates it does not. This technique ensures that no ordinal relationship is implied between categories and that the algorithm treats them as distinct and unrelated."
   ]
  },
  {
   "cell_type": "markdown",
   "id": "1d53371e",
   "metadata": {},
   "source": [
    "# Q5. In a machine learning project, you have a dataset with 1000 rows and 5 columns. Two of the columns are categorical, and the remaining three columns are numerical. If you were to use nominal encoding to transform the categorical data, how many new columns would be created? Show your calculations."
   ]
  },
  {
   "cell_type": "markdown",
   "id": "d3b62cfb",
   "metadata": {},
   "source": [
    "When using nominal encoding (also known as label encoding) to transform categorical data, each unique category is assigned a unique integer label. The number of new columns created depends on the number of unique categories within each categorical column.\n",
    "\n",
    "Let's break down your dataset with 1000 rows and 5 columns:\n",
    "\n",
    "__Two categorical columns:__\n",
    "\n",
    "    Let's say column A has 10 unique categories, and column B has 8 unique categories.\n",
    "    \n",
    "__Three numerical columns:__\n",
    "\n",
    "    These remain unchanged.\n",
    "    \n",
    "__For each categorical column, you'll create a new column__ to store the encoded labels. So, you'll have:\n",
    "\n",
    "2 categorical columns * 1 new column per categorical column = __2 new columns__"
   ]
  },
  {
   "cell_type": "markdown",
   "id": "a0964b2c",
   "metadata": {},
   "source": [
    "# Q6. You are working with a dataset containing information about different types of animals, including their species, habitat, and diet. Which encoding technique would you use to transform the categorical data into a format suitable for machine learning algorithms? Justify your answer."
   ]
  },
  {
   "cell_type": "markdown",
   "id": "4243eb78",
   "metadata": {},
   "source": [
    "For a dataset containing categorical data about different types of animals, including their species, habitat, and diet, the most suitable encoding technique to transform the categorical data into a format suitable for machine learning algorithms would be __one-hot encoding.__\n",
    "\n",
    "Here's why:\n",
    "\n",
    "__Categorical Nature:__\n",
    "\n",
    "    The dataset includes categorical features such as species, habitat, and diet. One-hot encoding is specifically designed for converting categorical variables into a format that can be used effectively by machine learning algorithms.\n",
    "\n",
    "__No Implicit Order:__\n",
    "\n",
    "    One-hot encoding is particularly useful when dealing with categorical variables that do not have an inherent order or ranking. In the case of animal species, habitat, and diet, there's typically no meaningful order between different categories. Using one-hot encoding avoids introducing unintended ordinal relationships.\n",
    "\n",
    "__Preservation of Independence:__\n",
    "\n",
    "    One-hot encoding creates separate binary columns (dummy variables) for each category. This approach preserves the independence of the categories, ensuring that the machine learning algorithm treats them as distinct and unrelated.\n",
    "\n",
    "__Avoiding Biases:__\n",
    "\n",
    "    Using one-hot encoding prevents the algorithm from assuming any kind of relationship or numerical comparison between the categories. This helps to prevent bias in the model's predictions."
   ]
  },
  {
   "cell_type": "markdown",
   "id": "9afd3c77",
   "metadata": {},
   "source": [
    "# Q7.You are working on a project that involves predicting customer churn for a telecommunications company. You have a dataset with 5 features, including the customer's gender, age, contract type, monthly charges, and tenure. Which encoding technique(s) would you use to transform the categorical data into numerical data? Provide a step-by-step explanation of how you would implement the encoding."
   ]
  },
  {
   "cell_type": "markdown",
   "id": "24a9fe0d",
   "metadata": {},
   "source": [
    "Features to Encode:\n",
    "\n",
    "    1. Gender (Categorical)\n",
    "    2. Contract Type (Categorical)\n",
    "    3. Age (Numerical)\n",
    "    4. Monthly Charges (Numerical)\n",
    "    5. Tenure (Numerical)\n",
    "    \n",
    "__One-Hot Encoding:__\n",
    "\n",
    "    This technique is used for nominal categorical variables. It creates binary columns for each category, indicating the presence (1) or absence (0) of that category.\n",
    "    \n",
    "    \n",
    "__Step 1: Load and Understand the Dataset__\n",
    "\n",
    "Load the dataset using a suitable library like pandas.\n",
    "Inspect the dataset to understand its structure, check for missing values, and examine the first few rows.\n",
    "\n",
    "__Step 2: Data Preprocessing__\n",
    "\n",
    "Handle any missing values or inconsistencies in the dataset, if present.\n",
    "Separate the target variable (churn) from the features.\n",
    "\n",
    "__Step 3: Encoding Categorical Features__\n",
    "\n",
    "encoding for gender and contract type.\n",
    "\n",
    "__Step 4: Scaling Numerical Features__\n",
    "\n",
    "Standardize or scale numerical features like age, monthly charges, and tenure using techniques like Min-Max Scaling or Standard Scaling. Scaling ensures that all numerical features are on a similar scale, which can improve the performance of some machine learning algorithms.\n",
    "\n",
    "__Step 5: Concatenate Encoded and Scaled Features__\n",
    "\n",
    "Combine the encoded categorical features and the scaled numerical features to create the final feature matrix for your machine learning model."
   ]
  },
  {
   "cell_type": "code",
   "execution_count": null,
   "id": "a6284822",
   "metadata": {},
   "outputs": [],
   "source": []
  }
 ],
 "metadata": {
  "kernelspec": {
   "display_name": "Python 3 (ipykernel)",
   "language": "python",
   "name": "python3"
  },
  "language_info": {
   "codemirror_mode": {
    "name": "ipython",
    "version": 3
   },
   "file_extension": ".py",
   "mimetype": "text/x-python",
   "name": "python",
   "nbconvert_exporter": "python",
   "pygments_lexer": "ipython3",
   "version": "3.10.9"
  }
 },
 "nbformat": 4,
 "nbformat_minor": 5
}
