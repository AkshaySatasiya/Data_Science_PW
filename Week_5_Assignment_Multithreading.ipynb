{
 "cells": [
  {
   "cell_type": "markdown",
   "id": "da6004ab",
   "metadata": {},
   "source": [
    "# Q1. What is multithreading in python? Why is it used? Name the module used to handle threads in python.\n"
   ]
  },
  {
   "cell_type": "markdown",
   "id": "b8725862",
   "metadata": {},
   "source": [
    "Multithreading refers to __concurrently executing multiple threads__ by rapidly switching the control of the CPU between threads."
   ]
  },
  {
   "cell_type": "markdown",
   "id": "df62043b",
   "metadata": {},
   "source": [
    "The __threading__ module is used to handle threads in python.\n",
    "\n",
    "It is a high-level implementation of multithreading used to deploy an application in python. To use multithreading, we need to import the threading module in Python program."
   ]
  },
  {
   "cell_type": "markdown",
   "id": "2b0a92de",
   "metadata": {},
   "source": [
    "# Q2. Why threading module used? Write the use of the following functions:\n"
   ]
  },
  {
   "cell_type": "markdown",
   "id": "7e8da92e",
   "metadata": {},
   "source": [
    "Threading module is used for creating, controlling and managing threads in python."
   ]
  },
  {
   "cell_type": "markdown",
   "id": "f5d7c0e8",
   "metadata": {},
   "source": [
    "### 1. activeCount()\n"
   ]
  },
  {
   "cell_type": "markdown",
   "id": "3b5d7bcb",
   "metadata": {},
   "source": [
    "activeCount() method returns the number of thread objects that are active."
   ]
  },
  {
   "cell_type": "markdown",
   "id": "9e67fb59",
   "metadata": {},
   "source": [
    "### 2. currentThread()\n"
   ]
  },
  {
   "cell_type": "markdown",
   "id": "d4d7cf85",
   "metadata": {},
   "source": [
    "currentThread() method returns the number of thread object in the caller's thread control."
   ]
  },
  {
   "cell_type": "markdown",
   "id": "77fd8d43",
   "metadata": {},
   "source": [
    "### 3. enumerate()"
   ]
  },
  {
   "cell_type": "markdown",
   "id": "baabc8e9",
   "metadata": {},
   "source": [
    " enumerate() allows you to keep track of the number of iterations in a loop."
   ]
  },
  {
   "cell_type": "markdown",
   "id": "cb156b24",
   "metadata": {},
   "source": [
    "# Q3. Explain the following functions:\n",
    "### 1. run()"
   ]
  },
  {
   "cell_type": "markdown",
   "id": "8d735162",
   "metadata": {},
   "source": [
    "the run() method executes any target function belonging to a given thread object that is now active."
   ]
  },
  {
   "cell_type": "markdown",
   "id": "21412435",
   "metadata": {},
   "source": [
    "### 2.start()"
   ]
  },
  {
   "cell_type": "markdown",
   "id": "cf5b320d",
   "metadata": {},
   "source": [
    "A start() method is used to initiate the activity of a thread."
   ]
  },
  {
   "cell_type": "markdown",
   "id": "160a1474",
   "metadata": {},
   "source": [
    "### 3. join()"
   ]
  },
  {
   "cell_type": "markdown",
   "id": "3fc0d376",
   "metadata": {},
   "source": [
    "join() method delays a program's flow of execution until the target thread has been completely read."
   ]
  },
  {
   "cell_type": "markdown",
   "id": "296e4f0f",
   "metadata": {},
   "source": [
    "### 4. isAlive()"
   ]
  },
  {
   "cell_type": "markdown",
   "id": "f222189e",
   "metadata": {},
   "source": [
    "it is used to check whether that thread is alive or not, ie, it is still running or not."
   ]
  },
  {
   "cell_type": "markdown",
   "id": "bef08d14",
   "metadata": {},
   "source": [
    "# 4.  Write a python program to create two threads. Thread one must print the list of squares and thread two must print the list of cubes."
   ]
  },
  {
   "cell_type": "code",
   "execution_count": 31,
   "id": "6147b7f7",
   "metadata": {},
   "outputs": [
    {
     "name": "stdout",
     "output_type": "stream",
     "text": [
      "Square 0: 0\n",
      "Square 1: 1\n",
      "Square 2: 4\n",
      "Square 3: 9\n",
      "Square 4: 16\n",
      "Square 5: 25\n",
      "Square 6: 36\n",
      "Square 7: 49\n",
      "Square 8: 64\n",
      "Square 9: 81\n",
      "cube 0: 0\n",
      "cube 1: 1\n",
      "cube 2: 8\n",
      "cube 3: 27\n",
      "cube 4: 64\n",
      "cube 5: 125\n",
      "cube 6: 216\n",
      "cube 7: 343\n",
      "cube 8: 512\n",
      "cube 9: 729\n"
     ]
    }
   ],
   "source": [
    "import threading\n",
    "import time\n",
    "\n",
    "def print_cube(num):\n",
    "    print('cube {}: {}'.format(num,num**3))\n",
    "    time.sleep(1)\n",
    "    \n",
    "def print_square(num):\n",
    "    print('Square {}: {}'.format(num,num**2))\n",
    "    time.sleep(1)\n",
    "    \n",
    "t1 = [threading.Thread(target = print_square, args = (i,)) for i in range(10)]\n",
    "t2 = [threading.Thread(target = print_cube, args = (i,)) for i in range(10)]\n",
    "\n",
    "for i in t1:\n",
    "    i.start()\n",
    "for j in t2:    \n",
    "    j.start()\n"
   ]
  },
  {
   "cell_type": "markdown",
   "id": "4d162aa7",
   "metadata": {},
   "source": [
    "# 5. State advantages and disadvantages of multithreading.\n"
   ]
  },
  {
   "cell_type": "markdown",
   "id": "164f52cf",
   "metadata": {},
   "source": [
    " __Advantages:__\n",
    "    \n",
    "    This model provides more concurrency than the many-to-one model. \n",
    "    \n",
    "    it also allows another thread to run when a thread makes a blocking system call.\n",
    "    \n",
    "    it supports multiple threads to execute in parallel on microprocessors.\n",
    "__Disadvantages:__\n",
    "\n",
    "    disadvantage of this model is that creating user thread requires the corresponding Kernel thread."
   ]
  },
  {
   "cell_type": "markdown",
   "id": "feb467fb",
   "metadata": {},
   "source": [
    "# 6. Explain deadlocks and race conditions.\n"
   ]
  },
  {
   "cell_type": "markdown",
   "id": "8087860c",
   "metadata": {},
   "source": [
    "__deadlock:__\n",
    "    \n",
    "    a deadlock is a concurrency failure mode where a thread or threads wait for a condition that never occurs.\n",
    "    \n",
    "__race condition:__\n",
    "    \n",
    "    a race condition occurs when two or more threads try to access a shared variable simultaneously, leading to unpredictable outcomes."
   ]
  },
  {
   "cell_type": "code",
   "execution_count": null,
   "id": "9b745b1b",
   "metadata": {},
   "outputs": [],
   "source": []
  }
 ],
 "metadata": {
  "kernelspec": {
   "display_name": "Python 3 (ipykernel)",
   "language": "python",
   "name": "python3"
  },
  "language_info": {
   "codemirror_mode": {
    "name": "ipython",
    "version": 3
   },
   "file_extension": ".py",
   "mimetype": "text/x-python",
   "name": "python",
   "nbconvert_exporter": "python",
   "pygments_lexer": "ipython3",
   "version": "3.10.9"
  }
 },
 "nbformat": 4,
 "nbformat_minor": 5
}
